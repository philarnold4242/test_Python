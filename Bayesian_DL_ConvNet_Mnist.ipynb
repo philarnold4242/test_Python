{
  "nbformat": 4,
  "nbformat_minor": 0,
  "metadata": {
    "colab": {
      "name": "Bayesian_DL_ConvNet_Mnist",
      "version": "0.3.2",
      "provenance": [],
      "collapsed_sections": [],
      "include_colab_link": true
    },
    "kernelspec": {
      "name": "python3",
      "display_name": "Python 3"
    },
    "accelerator": "GPU"
  },
  "cells": [
    {
      "cell_type": "markdown",
      "metadata": {
        "id": "view-in-github",
        "colab_type": "text"
      },
      "source": [
        "<a href=\"https://colab.research.google.com/github/philarnold4242/test_Python/blob/master/Bayesian_DL_ConvNet_Mnist.ipynb\" target=\"_parent\"><img src=\"https://colab.research.google.com/assets/colab-badge.svg\" alt=\"Open In Colab\"/></a>"
      ]
    },
    {
      "metadata": {
        "id": "RBWclJu3nJm1",
        "colab_type": "text"
      },
      "cell_type": "markdown",
      "source": [
        "# Chapter 4 - Convolutional Neural Nets<br>\n",
        "https://www.tensorflow.org/tutorials/deep_cnn"
      ]
    },
    {
      "metadata": {
        "id": "HzQAt5uob8yz",
        "colab_type": "code",
        "colab": {}
      },
      "cell_type": "code",
      "source": [
        "N = 100 # Number of samples for forward pass\n",
        "Ntrain_steps = 2000\n",
        "bayesian_keep_prob = 0.8"
      ],
      "execution_count": 0,
      "outputs": []
    },
    {
      "metadata": {
        "id": "7Lx8J8xrSf8x",
        "colab_type": "code",
        "outputId": "3c1168f5-215d-4678-b1e0-275c211a27e2",
        "colab": {
          "base_uri": "https://localhost:8080/",
          "height": 34
        }
      },
      "cell_type": "code",
      "source": [
        "from google.colab import drive\n",
        "drive.mount('/content/drive')"
      ],
      "execution_count": 2,
      "outputs": [
        {
          "output_type": "stream",
          "text": [
            "Drive already mounted at /content/drive; to attempt to forcibly remount, call drive.mount(\"/content/drive\", force_remount=True).\n"
          ],
          "name": "stdout"
        }
      ]
    },
    {
      "metadata": {
        "id": "ZAPEMIOayy-s",
        "colab_type": "text"
      },
      "cell_type": "markdown",
      "source": [
        "## Uncertainties<br>\n",
        "Helper functions"
      ]
    },
    {
      "metadata": {
        "id": "K8i4CAtpy9dj",
        "colab_type": "code",
        "colab": {}
      },
      "cell_type": "code",
      "source": [
        "# Pseudocount - needs thinking.\n",
        "pc = 1e-10\n",
        "\n",
        "def softmax(x):\n",
        "    \"\"\" Multinomial logisitc fuction. \"\"\"\n",
        "    mmax = np.amax(x, axis=1).reshape(x.shape[0], 1)\n",
        "    ex = np.exp(x - mmax)\n",
        "    ex_sum = ex.sum(axis=1).reshape(ex.shape[0],1)\n",
        "    return ex / ex_sum\n",
        "    \n",
        "\n",
        "def var_ratio(x):\n",
        "    \"\"\" How spread is the distribution around the mode?\"\"\" \n",
        "    ratios = np.zeros(shape=(x.shape[1]))\n",
        "    \n",
        "    # Loop over test examples\n",
        "    for n in range(x.shape[1]):\n",
        "        \n",
        "        # Get predicted class\n",
        "        samples_n = np.argmax(x[:, n], axis=1)\n",
        "        \n",
        "        # Get most abundant class\n",
        "        count = np.argmax(np.bincount(samples_n))\n",
        "        \n",
        "        # Return frequency of class\n",
        "        ratios[n] = np.sum(samples_n==count) / x.shape[0]\n",
        "\n",
        "    return ratios\n",
        "\n",
        "\n",
        "def pred_ent(x):\n",
        "    \"\"\" Average amount of information contained in posterior predictive distribution. \"\"\"\n",
        "    \n",
        "    N = x.shape[1] # Number of test cases\n",
        "    T = x.shape[0] # Number of samples per test case\n",
        "    C = 10 # number of classes\n",
        "    \n",
        "    entropies = np.zeros(shape=(x.shape[1]))\n",
        "    \n",
        "    # Loop over test examples\n",
        "    for n in range(N):\n",
        "        \n",
        "        # Approx posterior predictive distribution\n",
        "        ppd = np.mean(x[:,n,:] + pc, axis=0)\n",
        "        \n",
        "        # Calculate predictive entropy\n",
        "        entropies[n] = - np.sum(np.multiply(ppd, np.log(ppd)))\n",
        "    \n",
        "    return entropies\n",
        "\n",
        "\n",
        "def mut_inf(x):\n",
        "    \"\"\" MI between prediction y_pred and posterior distribution for the model parameters. \"\"\"\n",
        "    \n",
        "    N = x.shape[1] # Number of test cases\n",
        "    T = x.shape[0] # Number of samples per test case\n",
        "    C = 10 # number of classes\n",
        "        \n",
        "    mis = np.zeros(shape=(x.shape[1]))\n",
        "    \n",
        "    # Loop over test examples\n",
        "    for n in range(N):\n",
        "        \n",
        "        # Approx posterior predictive distribution\n",
        "        ppd = np.mean(x[:,n,:] + pc, axis=0)\n",
        "        \n",
        "        # Calculate predictive entropy\n",
        "        pe = - np.sum(np.multiply(ppd, np.log(ppd)))\n",
        "        \n",
        "        # Calculate conditional entropy        \n",
        "        p = x[:,n,:] + pc\n",
        "        logp = np.log(p)\n",
        "        ce = np.mean(np.multiply(p,logp))\n",
        "        \n",
        "        mis[n] = pe - ce\n",
        "\n",
        "    return mis"
      ],
      "execution_count": 0,
      "outputs": []
    },
    {
      "metadata": {
        "id": "JVgTiBhMNafU",
        "colab_type": "code",
        "colab": {}
      },
      "cell_type": "code",
      "source": [
        ""
      ],
      "execution_count": 0,
      "outputs": []
    },
    {
      "metadata": {
        "id": "14cQDiYv1SpU",
        "colab_type": "text"
      },
      "cell_type": "markdown",
      "source": [
        "## **Let's get started**"
      ]
    },
    {
      "metadata": {
        "id": "VO9aw8uUokBW",
        "colab_type": "text"
      },
      "cell_type": "markdown",
      "source": [
        "### Set up modules"
      ]
    },
    {
      "metadata": {
        "id": "jkgZW6xuuTuo",
        "colab_type": "code",
        "outputId": "3d5e6abf-3dce-4226-ae00-22e30a1f952a",
        "colab": {
          "base_uri": "https://localhost:8080/",
          "height": 356
        }
      },
      "cell_type": "code",
      "source": [
        "import os\n",
        "import sys\n",
        "\n",
        "import numpy as np\n",
        "np.set_printoptions(precision=5)\n",
        "\n",
        "import pandas as pd\n",
        "\n",
        "%matplotlib inline\n",
        "import matplotlib.pyplot as plt\n",
        "\n",
        "import pickle\n",
        "import urllib\n",
        "import tarfile\n",
        "\n",
        "!pip install git+git://github.com/rasbt/mlxtend.git\n",
        "from mlxtend.data import loadlocal_mnist\n",
        "\n",
        "import tensorflow as tf\n",
        "print(tf.__version__)"
      ],
      "execution_count": 4,
      "outputs": [
        {
          "output_type": "stream",
          "text": [
            "Collecting git+git://github.com/rasbt/mlxtend.git\n",
            "  Cloning git://github.com/rasbt/mlxtend.git to /tmp/pip-req-build-422v_8kq\n",
            "Requirement already satisfied (use --upgrade to upgrade): mlxtend==0.15.0.dev0 from git+git://github.com/rasbt/mlxtend.git in /usr/local/lib/python3.6/dist-packages\n",
            "Requirement already satisfied: scipy>=0.17 in /usr/local/lib/python3.6/dist-packages (from mlxtend==0.15.0.dev0) (1.1.0)\n",
            "Requirement already satisfied: numpy>=1.10.4 in /usr/local/lib/python3.6/dist-packages (from mlxtend==0.15.0.dev0) (1.14.6)\n",
            "Requirement already satisfied: pandas>=0.17.1 in /usr/local/lib/python3.6/dist-packages (from mlxtend==0.15.0.dev0) (0.22.0)\n",
            "Requirement already satisfied: scikit-learn>=0.18 in /usr/local/lib/python3.6/dist-packages (from mlxtend==0.15.0.dev0) (0.20.1)\n",
            "Requirement already satisfied: matplotlib>=1.5.1 in /usr/local/lib/python3.6/dist-packages (from mlxtend==0.15.0.dev0) (2.1.2)\n",
            "Requirement already satisfied: setuptools in /usr/local/lib/python3.6/dist-packages (from mlxtend==0.15.0.dev0) (40.6.2)\n",
            "Requirement already satisfied: python-dateutil>=2 in /usr/local/lib/python3.6/dist-packages (from pandas>=0.17.1->mlxtend==0.15.0.dev0) (2.5.3)\n",
            "Requirement already satisfied: pytz>=2011k in /usr/local/lib/python3.6/dist-packages (from pandas>=0.17.1->mlxtend==0.15.0.dev0) (2018.7)\n",
            "Requirement already satisfied: six>=1.10 in /usr/local/lib/python3.6/dist-packages (from matplotlib>=1.5.1->mlxtend==0.15.0.dev0) (1.11.0)\n",
            "Requirement already satisfied: pyparsing!=2.0.4,!=2.1.2,!=2.1.6,>=2.0.1 in /usr/local/lib/python3.6/dist-packages (from matplotlib>=1.5.1->mlxtend==0.15.0.dev0) (2.3.0)\n",
            "Requirement already satisfied: cycler>=0.10 in /usr/local/lib/python3.6/dist-packages (from matplotlib>=1.5.1->mlxtend==0.15.0.dev0) (0.10.0)\n",
            "Building wheels for collected packages: mlxtend\n",
            "  Running setup.py bdist_wheel for mlxtend ... \u001b[?25l-\b \b\\\b \b|\b \bdone\n",
            "\u001b[?25h  Stored in directory: /tmp/pip-ephem-wheel-cache-wxzk3vb9/wheels/85/e4/4c/ee71547ac9ea223b07fe8f55b0e5f71536a6a34ae3480205f3\n",
            "Successfully built mlxtend\n",
            "1.12.0\n"
          ],
          "name": "stdout"
        }
      ]
    },
    {
      "metadata": {
        "id": "3ZWo6tDooLq5",
        "colab_type": "code",
        "outputId": "7ff887b2-ca77-41c3-e90a-0a673c12263a",
        "colab": {
          "base_uri": "https://localhost:8080/",
          "height": 50
        }
      },
      "cell_type": "code",
      "source": [
        "## Check GPU\n",
        "with tf.device('/gpu:0'):\n",
        "    a = tf.constant([1.0, 2.0, 3.0, 4.0, 5.0, 6.0], shape=[2, 3], name='a')\n",
        "    b = tf.constant([1.0, 2.0, 3.0, 4.0, 5.0, 6.0], shape=[3, 2], name='b')\n",
        "    c = tf.matmul(a, b)\n",
        "\n",
        "with tf.Session() as sess:\n",
        "    print (sess.run(c))"
      ],
      "execution_count": 5,
      "outputs": [
        {
          "output_type": "stream",
          "text": [
            "[[22. 28.]\n",
            " [49. 64.]]\n"
          ],
          "name": "stdout"
        }
      ]
    },
    {
      "metadata": {
        "id": "YhH96ZrWoZAu",
        "colab_type": "text"
      },
      "cell_type": "markdown",
      "source": [
        "### ConvNet - The hard way"
      ]
    },
    {
      "metadata": {
        "id": "GDzeh2PXykbP",
        "colab_type": "code",
        "outputId": "5aea7168-8875-498c-855d-d3d25b67dde3",
        "colab": {
          "base_uri": "https://localhost:8080/",
          "height": 406
        }
      },
      "cell_type": "code",
      "source": [
        "## Load MNIST\n",
        "from tensorflow.examples.tutorials.mnist import input_data\n",
        "mnist = input_data.read_data_sets('MNIST_data', one_hot=True)"
      ],
      "execution_count": 6,
      "outputs": [
        {
          "output_type": "stream",
          "text": [
            "WARNING:tensorflow:From <ipython-input-6-93d8da72a918>:2: read_data_sets (from tensorflow.contrib.learn.python.learn.datasets.mnist) is deprecated and will be removed in a future version.\n",
            "Instructions for updating:\n",
            "Please use alternatives such as official/mnist/dataset.py from tensorflow/models.\n",
            "WARNING:tensorflow:From /usr/local/lib/python3.6/dist-packages/tensorflow/contrib/learn/python/learn/datasets/mnist.py:260: maybe_download (from tensorflow.contrib.learn.python.learn.datasets.base) is deprecated and will be removed in a future version.\n",
            "Instructions for updating:\n",
            "Please write your own downloading logic.\n",
            "WARNING:tensorflow:From /usr/local/lib/python3.6/dist-packages/tensorflow/contrib/learn/python/learn/datasets/mnist.py:262: extract_images (from tensorflow.contrib.learn.python.learn.datasets.mnist) is deprecated and will be removed in a future version.\n",
            "Instructions for updating:\n",
            "Please use tf.data to implement this functionality.\n",
            "Extracting MNIST_data/train-images-idx3-ubyte.gz\n",
            "WARNING:tensorflow:From /usr/local/lib/python3.6/dist-packages/tensorflow/contrib/learn/python/learn/datasets/mnist.py:267: extract_labels (from tensorflow.contrib.learn.python.learn.datasets.mnist) is deprecated and will be removed in a future version.\n",
            "Instructions for updating:\n",
            "Please use tf.data to implement this functionality.\n",
            "Extracting MNIST_data/train-labels-idx1-ubyte.gz\n",
            "WARNING:tensorflow:From /usr/local/lib/python3.6/dist-packages/tensorflow/contrib/learn/python/learn/datasets/mnist.py:110: dense_to_one_hot (from tensorflow.contrib.learn.python.learn.datasets.mnist) is deprecated and will be removed in a future version.\n",
            "Instructions for updating:\n",
            "Please use tf.one_hot on tensors.\n",
            "Extracting MNIST_data/t10k-images-idx3-ubyte.gz\n",
            "Extracting MNIST_data/t10k-labels-idx1-ubyte.gz\n",
            "WARNING:tensorflow:From /usr/local/lib/python3.6/dist-packages/tensorflow/contrib/learn/python/learn/datasets/mnist.py:290: DataSet.__init__ (from tensorflow.contrib.learn.python.learn.datasets.mnist) is deprecated and will be removed in a future version.\n",
            "Instructions for updating:\n",
            "Please use alternatives such as official/mnist/dataset.py from tensorflow/models.\n"
          ],
          "name": "stdout"
        }
      ]
    },
    {
      "metadata": {
        "id": "3kNaG8xHt78M",
        "colab_type": "code",
        "colab": {}
      },
      "cell_type": "code",
      "source": [
        "## Helper functions\n",
        "def weight_variable(shape):\n",
        "    \"\"\" Specifies the weight for either fully-connected or conv layers.\"\"\"\n",
        "    initial = tf.truncated_normal(shape, stddev=0.1)\n",
        "    return tf.Variable(initial)\n",
        "\n",
        "\n",
        "def bias_variable(shape):\n",
        "    \"\"\" Bias elements. \"\"\"\n",
        "    initial = tf.constant(0.1, shape=shape)\n",
        "    return tf.Variable(initial)\n",
        "\n",
        "\n",
        "def conv2d(x, W):\n",
        "    \"\"\" This specifies a full convolution with an output the same size\n",
        "        as the input x. \n",
        "        [batch, height, width, channels] \"\"\"\n",
        "    return tf.nn.conv2d(x, W, strides=[1, 1, 1, 1], padding='SAME')\n",
        "\n",
        "\n",
        "def max_pool_2x2(x):\n",
        "    \"\"\" ksize: A 1-D int Tensor of 4 elements. The size of the window for each \n",
        "               dimension of the input tensor.\n",
        "        strides: A 1-D int Tensor of 4 elements. The stride of the sliding window for \n",
        "                 each dimension of the input tensor. \"\"\"\n",
        "    return tf.nn.max_pool(x, ksize=[1, 2, 2, 1], strides=[1, 2, 2, 1], padding='SAME')"
      ],
      "execution_count": 0,
      "outputs": []
    },
    {
      "metadata": {
        "id": "i5smh_tbuKh_",
        "colab_type": "code",
        "colab": {}
      },
      "cell_type": "code",
      "source": [
        "## Architecture parameters\n",
        "pic_res = 28\n",
        "n_channel = 1\n",
        "\n",
        "# Placeholders to feed stuff to network\n",
        "x = tf.placeholder(tf.float32, shape=[None, pic_res*pic_res])\n",
        "y_true = tf.placeholder(tf.float32, shape=[None, 10])\n",
        "keep_prob = tf.placeholder(tf.float32)\n",
        "\n",
        "\n"
      ],
      "execution_count": 0,
      "outputs": []
    },
    {
      "metadata": {
        "id": "fO5bdhz9uQsq",
        "colab_type": "code",
        "colab": {}
      },
      "cell_type": "code",
      "source": [
        "def create_convnet(do_bayes = False):\n",
        "  ## The net\n",
        "  # Remember, the input image is a 1D tensor of length 784.\n",
        "  mnist.train.images[1].shape\n",
        "\n",
        "  # To apply the layer, we first reshape x to a 4d tensor, with the second and \n",
        "  # third dimensions corresponding to image width and height, and the final dimension \n",
        "  # corresponding to the number of color channels.\n",
        "  x_image = tf.reshape(x, [-1, pic_res, pic_res, n_channel])\n",
        "\n",
        "  # First conv layer\n",
        "  # The convolution will compute 32 features for each 3x3 patch. Its weight tensor will have a \n",
        "  # shape of [3, 3, 1, 32]. The first two dimensions are the patch size, the next is the number \n",
        "  # of input channels, and the last is the number of output channels. \n",
        "  W_conv1 = weight_variable([3, 3, n_channel, 32])\n",
        "  b_conv1 = bias_variable([32])\n",
        "  conv1 = tf.nn.relu(conv2d(x_image, W_conv1) + b_conv1)\n",
        "  if do_bayes:\n",
        "    conv1 = tf.nn.dropout(conv1, keep_prob=keep_prob)\n",
        "  h_pool1 = max_pool_2x2(conv1)\n",
        "\n",
        "  # Second conv layer\n",
        "  W_conv2 = weight_variable([3, 3, 32, 64])\n",
        "  b_conv2 = bias_variable([64])\n",
        "  conv2 = tf.nn.relu(conv2d(h_pool1, W_conv2) + b_conv2)\n",
        "  if do_bayes:\n",
        "    conv2 = tf.nn.dropout(conv2, keep_prob=keep_prob)\n",
        "  h_pool2 = max_pool_2x2(conv2)\n",
        "\n",
        "  # Dense layer \n",
        "  pic_res4_sq = int(pic_res/4)*int(pic_res/4)\n",
        "  W_fc1 = weight_variable([pic_res4_sq * 64, 1024])\n",
        "  b_fc1 = bias_variable([1024])\n",
        "\n",
        "  h_pool2_flat = tf.reshape(h_pool2, [-1, pic_res4_sq*64])\n",
        "  h_fc1 = tf.nn.relu(tf.matmul(h_pool2_flat, W_fc1) + b_fc1)\n",
        "  # Dropout\n",
        "  h_fc1_drop = tf.nn.dropout(h_fc1, keep_prob=keep_prob)\n",
        "\n",
        "  # Output\n",
        "  W_fc2 = weight_variable([1024, 10])\n",
        "  b_fc2 = bias_variable([10])\n",
        "\n",
        "  h_fc2 = tf.matmul(h_fc1_drop, W_fc2) + b_fc2\n",
        "  h_fc2_drop = tf.nn.dropout(h_fc2, keep_prob=keep_prob)\n",
        "  y_conv = h_fc2_drop\n",
        "  \n",
        "  return(y_conv)"
      ],
      "execution_count": 0,
      "outputs": []
    },
    {
      "metadata": {
        "id": "STVMxtaMC4y8",
        "colab_type": "text"
      },
      "cell_type": "markdown",
      "source": [
        "## Tranditional ConvNet"
      ]
    },
    {
      "metadata": {
        "id": "vOnCcPGfuWIo",
        "colab_type": "code",
        "outputId": "33e0a4fe-322b-4e5a-8f39-81b157dc0aba",
        "colab": {
          "base_uri": "https://localhost:8080/",
          "height": 171
        }
      },
      "cell_type": "code",
      "source": [
        "# Objective function\n",
        "y_conv = create_convnet(do_bayes = False)\n",
        "y_pred = tf.nn.softmax_cross_entropy_with_logits(labels=y_true, logits=y_conv)\n",
        "cross_entropy = tf.reduce_mean(y_pred)\n",
        "\n",
        "# Optimizer\n",
        "train_step = tf.train.AdamOptimizer(1e-4).minimize(cross_entropy)\n",
        "\n",
        "# Evaluation\n",
        "correct_prediction = tf.equal(tf.argmax(y_conv, 1), tf.argmax(y_true, 1))\n",
        "accuracy = tf.reduce_mean(tf.cast(correct_prediction, tf.float32))"
      ],
      "execution_count": 10,
      "outputs": [
        {
          "output_type": "stream",
          "text": [
            "WARNING:tensorflow:From <ipython-input-10-1d222a8a8337>:2: softmax_cross_entropy_with_logits (from tensorflow.python.ops.nn_ops) is deprecated and will be removed in a future version.\n",
            "Instructions for updating:\n",
            "\n",
            "Future major versions of TensorFlow will allow gradients to flow\n",
            "into the labels input on backprop by default.\n",
            "\n",
            "See `tf.nn.softmax_cross_entropy_with_logits_v2`.\n",
            "\n"
          ],
          "name": "stdout"
        }
      ]
    },
    {
      "metadata": {
        "id": "YxYiTuaruedH",
        "colab_type": "code",
        "outputId": "e7ff91e1-39fc-4c72-c580-26faa1961bc1",
        "colab": {
          "base_uri": "https://localhost:8080/",
          "height": 67
        }
      },
      "cell_type": "code",
      "source": [
        "## Train - MNIST\n",
        "sess = tf.Session()\n",
        "sess.run(tf.global_variables_initializer())\n",
        "\n",
        "for i in range(int(Ntrain_steps)+1):\n",
        "    batch = mnist.train.next_batch(64)\n",
        "\n",
        "    # Training\n",
        "    _, loss = sess.run([train_step, cross_entropy], \n",
        "                       feed_dict={x: batch[0], y_true: batch[1], \n",
        "                                  keep_prob: float(bayesian_keep_prob)})\n",
        "    \n",
        "    # Status report\n",
        "    if i % 1000 == 0:\n",
        "        train_acc = sess.run(accuracy, feed_dict={x: batch[0], \n",
        "                                                  y_true: batch[1], \n",
        "                                                  keep_prob: float(1.0)})\n",
        "        \n",
        "        test_acc = sess.run(accuracy, feed_dict={x: mnist.test.images,\n",
        "                                                  y_true: mnist.test.labels, \n",
        "                                                  keep_prob: 1.0})\n",
        "        info = [str(tx) for tx in [i, loss, train_acc, test_acc] ]\n",
        "        print('\\t'.join(info))\n",
        "        "
      ],
      "execution_count": 11,
      "outputs": [
        {
          "output_type": "stream",
          "text": [
            "0\t6.8381863\t0.125\t0.1021\n",
            "1000\t0.37020978\t0.96875\t0.9586\n",
            "2000\t0.42414308\t0.9375\t0.9749\n"
          ],
          "name": "stdout"
        }
      ]
    },
    {
      "metadata": {
        "id": "19rtEjfLDNA6",
        "colab_type": "code",
        "colab": {}
      },
      "cell_type": "code",
      "source": [
        "# Get predictions\n",
        "y_prob = tf.nn.softmax(y_conv)\n",
        "pred_trad = sess.run(y_prob, feed_dict={x: mnist.test.images,\n",
        "                                          y_true: mnist.test.labels, \n",
        "                                          keep_prob: 1.0})\n",
        "\n",
        "\n",
        "labels_trad = np.argmax(pred_trad, axis=1)\n",
        "probs_trad = np.max(pred_trad, axis=1)"
      ],
      "execution_count": 0,
      "outputs": []
    },
    {
      "metadata": {
        "id": "vknlWvhgRYUv",
        "colab_type": "code",
        "outputId": "6c0c34f7-ed04-449b-ebb3-02c6885ceb97",
        "colab": {
          "base_uri": "https://localhost:8080/",
          "height": 34
        }
      },
      "cell_type": "code",
      "source": [
        "qqq = sess.run(y_prob, feed_dict={x: mnist.test.images,\n",
        "                                          y_true: mnist.test.labels, \n",
        "                                          keep_prob: 1.0})\n",
        "print(qqq.shape)"
      ],
      "execution_count": 13,
      "outputs": [
        {
          "output_type": "stream",
          "text": [
            "(10000, 10)\n"
          ],
          "name": "stdout"
        }
      ]
    },
    {
      "metadata": {
        "id": "TtkidrwlESA8",
        "colab_type": "text"
      },
      "cell_type": "markdown",
      "source": [
        "## Bayesian ConvNet"
      ]
    },
    {
      "metadata": {
        "id": "RJSvS1LyEZWx",
        "colab_type": "code",
        "colab": {}
      },
      "cell_type": "code",
      "source": [
        "# Objective function\n",
        "By_conv = create_convnet(do_bayes = True)\n",
        "By_pred = tf.nn.softmax_cross_entropy_with_logits(labels=y_true, logits=By_conv)\n",
        "Bcross_entropy = tf.reduce_mean(By_pred)\n",
        "\n",
        "# Optimizer\n",
        "Btrain_step = tf.train.AdamOptimizer(1e-4).minimize(Bcross_entropy)\n",
        "\n",
        "# Evaluation\n",
        "Bcorrect_prediction = tf.equal(tf.argmax(By_conv, 1), tf.argmax(y_true, 1))\n",
        "Baccuracy = tf.reduce_mean(tf.cast(Bcorrect_prediction, tf.float32))"
      ],
      "execution_count": 0,
      "outputs": []
    },
    {
      "metadata": {
        "id": "12mU6-sPEpT1",
        "colab_type": "code",
        "outputId": "5c4a6662-83b4-4aba-c184-1ea35167085c",
        "colab": {
          "base_uri": "https://localhost:8080/",
          "height": 67
        }
      },
      "cell_type": "code",
      "source": [
        "## Train - MNIST\n",
        "sess = tf.Session()\n",
        "sess.run(tf.global_variables_initializer())\n",
        "\n",
        "for i in range(int(Ntrain_steps)+1):\n",
        "    batch = mnist.train.next_batch(64)\n",
        "\n",
        "    # Training\n",
        "    _, loss = sess.run([Btrain_step, Bcross_entropy], \n",
        "                       feed_dict={x: batch[0], y_true: batch[1], \n",
        "                                  keep_prob: float(bayesian_keep_prob)})\n",
        "    \n",
        "    # Status report\n",
        "    if i % 1000 == 0:\n",
        "        train_acc = sess.run(Baccuracy, feed_dict={x: batch[0], \n",
        "                                                  y_true: batch[1], \n",
        "                                                  keep_prob: float(1.0)})\n",
        "        \n",
        "        test_acc = sess.run(Baccuracy, feed_dict={x: mnist.test.images,\n",
        "                                                  y_true: mnist.test.labels, \n",
        "                                                  keep_prob: 1.0})\n",
        "        info = [str(tx) for tx in [i, loss, train_acc, test_acc] ]\n",
        "        print('\\t'.join(info))"
      ],
      "execution_count": 15,
      "outputs": [
        {
          "output_type": "stream",
          "text": [
            "0\t7.3198433\t0.046875\t0.0419\n",
            "1000\t0.32203615\t0.96875\t0.9574\n",
            "2000\t0.25649953\t0.984375\t0.9743\n"
          ],
          "name": "stdout"
        }
      ]
    },
    {
      "metadata": {
        "id": "OCb8xs3ou_nV",
        "colab_type": "text"
      },
      "cell_type": "markdown",
      "source": [
        "**Uncertainties from stochastic forward passes**"
      ]
    },
    {
      "metadata": {
        "id": "4InJYDy_u6ao",
        "colab_type": "code",
        "colab": {}
      },
      "cell_type": "code",
      "source": [
        "## Stochastic forward passes\n",
        "samples = np.zeros( shape=(N, mnist.test.images.shape[0], 10))\n",
        "\n",
        "for n in range(N):\n",
        "    logits = sess.run(By_conv, feed_dict={x: mnist.test.images, \n",
        "                                          y_true: mnist.test.labels,\n",
        "                                         keep_prob: bayesian_keep_prob})\n",
        "    samples[n] = softmax(logits)"
      ],
      "execution_count": 0,
      "outputs": []
    },
    {
      "metadata": {
        "id": "o7MRUgoX0dBH",
        "colab_type": "code",
        "colab": {}
      },
      "cell_type": "code",
      "source": [
        "# Variation ratio\n",
        "vr = var_ratio(samples)\n",
        "\n",
        "# Predictive entropy\n",
        "pe = pred_ent(samples)\n",
        "\n",
        "# Mutual information\n",
        "mi = mut_inf(samples)"
      ],
      "execution_count": 0,
      "outputs": []
    },
    {
      "metadata": {
        "id": "hV6bDZdHPbC2",
        "colab_type": "code",
        "colab": {}
      },
      "cell_type": "code",
      "source": [
        "def pred_ent_trad(x):\n",
        "    \"\"\" Average amount of information contained in posterior predictive distribution. \"\"\"\n",
        "\n",
        "    N = x.shape[0]\n",
        "    C = x.shape[1]\n",
        "    \n",
        "    entropies = np.zeros(shape=(N))    \n",
        "    \n",
        "    for n in range(N):\n",
        "\n",
        "      # Predictive entropy for traditional approach (just softmax)\n",
        "      ppd = x[n, :]\n",
        "\n",
        "      # Calculate predictive entropy\n",
        "      pe = - np.sum(np.multiply(ppd, np.log(ppd)))\n",
        "        \n",
        "      entropies[n] = pe\n",
        "      \n",
        "    return(entropies)\n",
        "  \n",
        "pe_trad = pred_ent_trad(pred_trad)"
      ],
      "execution_count": 0,
      "outputs": []
    },
    {
      "metadata": {
        "id": "Gk_eLYNqSrzm",
        "colab_type": "code",
        "outputId": "3a16c1af-62ab-45bf-c1f1-51469b2ff865",
        "colab": {
          "base_uri": "https://localhost:8080/",
          "height": 84
        }
      },
      "cell_type": "code",
      "source": [
        "import math\n",
        "\n",
        "y = pred_trad[9679]\n",
        "print(y)\n",
        "\n",
        "z = 0.0\n",
        "for i in range(10):\n",
        "  \n",
        "  z = z + y[i] * math.log(y[i])\n",
        "  \n",
        "print(z)\n",
        "print(pe_trad[9679])"
      ],
      "execution_count": 19,
      "outputs": [
        {
          "output_type": "stream",
          "text": [
            "[1.55946e-02 1.73305e-02 5.85049e-02 1.20846e-01 4.94046e-03 3.00167e-02\n",
            " 7.49268e-01 2.12804e-03 2.00448e-04 1.17049e-03]\n",
            "-0.9270757067512987\n",
            "0.9270756840705872\n"
          ],
          "name": "stdout"
        }
      ]
    },
    {
      "metadata": {
        "id": "MC-X4bfoGlYj",
        "colab_type": "code",
        "colab": {}
      },
      "cell_type": "code",
      "source": [
        "# Bayesian predictions\n",
        "samples_avg = np.sum(samples, axis=0) / N\n",
        "labels_bayes = np.argmax(samples_avg, axis=1)\n",
        "probs_bayes = np.max(samples_avg, axis=1)"
      ],
      "execution_count": 0,
      "outputs": []
    },
    {
      "metadata": {
        "id": "dQwajwbIGo6R",
        "colab_type": "text"
      },
      "cell_type": "markdown",
      "source": [
        "## Comparison: Bayes vs Trad"
      ]
    },
    {
      "metadata": {
        "id": "8tQjFLGlGoE4",
        "colab_type": "code",
        "outputId": "919310aa-a7ee-486c-fb80-701e6f08e9fb",
        "colab": {
          "base_uri": "https://localhost:8080/",
          "height": 168
        }
      },
      "cell_type": "code",
      "source": [
        "ref = np.argmax(mnist.test.labels, axis=1)\n",
        "data = { 'true': ref.tolist(),\n",
        "         'labels_trad': labels_trad.tolist(),\n",
        "         'probs_trad': probs_trad.tolist(),\n",
        "         'labels_bayes': labels_bayes.tolist(),\n",
        "         'probs_bayes': probs_bayes.tolist(),\n",
        "         'vr': vr.tolist(),\n",
        "         'pe': pe.tolist(),\n",
        "         'mi': mi.tolist(),\n",
        "         'pe_trad': pe_trad.tolist()}\n",
        "\n",
        "for k in data.keys():\n",
        "  print(\"{} {}\".format(k, len(data[k])))"
      ],
      "execution_count": 21,
      "outputs": [
        {
          "output_type": "stream",
          "text": [
            "true 10000\n",
            "labels_trad 10000\n",
            "probs_trad 10000\n",
            "labels_bayes 10000\n",
            "probs_bayes 10000\n",
            "vr 10000\n",
            "pe 10000\n",
            "mi 10000\n",
            "pe_trad 10000\n"
          ],
          "name": "stdout"
        }
      ]
    },
    {
      "metadata": {
        "id": "AJkBY3BZQw3J",
        "colab_type": "code",
        "outputId": "c6c4e1f9-0601-4bf1-f1c7-6a474ece98a5",
        "colab": {
          "base_uri": "https://localhost:8080/",
          "height": 195
        }
      },
      "cell_type": "code",
      "source": [
        "df = pd.DataFrame(data)\n",
        "\n",
        "df = df.assign(correct_trad = df.true == df.labels_trad)\n",
        "df = df.assign(correct_bayes = df.true == df.labels_bayes)\n",
        "\n",
        "df_both_wrong = df[(df.correct_trad == False) & (df.correct_bayes == False)]\n",
        "df_both_right = df[(df.correct_trad == True) & (df.correct_bayes == True)]\n",
        "\n",
        "df.head()"
      ],
      "execution_count": 22,
      "outputs": [
        {
          "output_type": "execute_result",
          "data": {
            "text/html": [
              "<div>\n",
              "<style scoped>\n",
              "    .dataframe tbody tr th:only-of-type {\n",
              "        vertical-align: middle;\n",
              "    }\n",
              "\n",
              "    .dataframe tbody tr th {\n",
              "        vertical-align: top;\n",
              "    }\n",
              "\n",
              "    .dataframe thead th {\n",
              "        text-align: right;\n",
              "    }\n",
              "</style>\n",
              "<table border=\"1\" class=\"dataframe\">\n",
              "  <thead>\n",
              "    <tr style=\"text-align: right;\">\n",
              "      <th></th>\n",
              "      <th>labels_bayes</th>\n",
              "      <th>labels_trad</th>\n",
              "      <th>mi</th>\n",
              "      <th>pe</th>\n",
              "      <th>pe_trad</th>\n",
              "      <th>probs_bayes</th>\n",
              "      <th>probs_trad</th>\n",
              "      <th>true</th>\n",
              "      <th>vr</th>\n",
              "      <th>correct_trad</th>\n",
              "      <th>correct_bayes</th>\n",
              "    </tr>\n",
              "  </thead>\n",
              "  <tbody>\n",
              "    <tr>\n",
              "      <th>0</th>\n",
              "      <td>7</td>\n",
              "      <td>7</td>\n",
              "      <td>0.511131</td>\n",
              "      <td>0.495323</td>\n",
              "      <td>0.000819</td>\n",
              "      <td>0.909562</td>\n",
              "      <td>0.999930</td>\n",
              "      <td>7</td>\n",
              "      <td>0.87</td>\n",
              "      <td>True</td>\n",
              "      <td>True</td>\n",
              "    </tr>\n",
              "    <tr>\n",
              "      <th>1</th>\n",
              "      <td>2</td>\n",
              "      <td>2</td>\n",
              "      <td>0.674607</td>\n",
              "      <td>0.648981</td>\n",
              "      <td>0.008633</td>\n",
              "      <td>0.874642</td>\n",
              "      <td>0.999051</td>\n",
              "      <td>2</td>\n",
              "      <td>0.92</td>\n",
              "      <td>True</td>\n",
              "      <td>True</td>\n",
              "    </tr>\n",
              "    <tr>\n",
              "      <th>2</th>\n",
              "      <td>1</td>\n",
              "      <td>1</td>\n",
              "      <td>0.718765</td>\n",
              "      <td>0.690418</td>\n",
              "      <td>0.009672</td>\n",
              "      <td>0.863084</td>\n",
              "      <td>0.999003</td>\n",
              "      <td>1</td>\n",
              "      <td>0.96</td>\n",
              "      <td>True</td>\n",
              "      <td>True</td>\n",
              "    </tr>\n",
              "    <tr>\n",
              "      <th>3</th>\n",
              "      <td>0</td>\n",
              "      <td>0</td>\n",
              "      <td>0.657608</td>\n",
              "      <td>0.632566</td>\n",
              "      <td>0.006961</td>\n",
              "      <td>0.876273</td>\n",
              "      <td>0.999288</td>\n",
              "      <td>0</td>\n",
              "      <td>1.00</td>\n",
              "      <td>True</td>\n",
              "      <td>True</td>\n",
              "    </tr>\n",
              "    <tr>\n",
              "      <th>4</th>\n",
              "      <td>4</td>\n",
              "      <td>4</td>\n",
              "      <td>0.506048</td>\n",
              "      <td>0.484107</td>\n",
              "      <td>0.030000</td>\n",
              "      <td>0.910621</td>\n",
              "      <td>0.996236</td>\n",
              "      <td>4</td>\n",
              "      <td>0.93</td>\n",
              "      <td>True</td>\n",
              "      <td>True</td>\n",
              "    </tr>\n",
              "  </tbody>\n",
              "</table>\n",
              "</div>"
            ],
            "text/plain": [
              "   labels_bayes  labels_trad        mi        pe   pe_trad  probs_bayes  \\\n",
              "0             7            7  0.511131  0.495323  0.000819     0.909562   \n",
              "1             2            2  0.674607  0.648981  0.008633     0.874642   \n",
              "2             1            1  0.718765  0.690418  0.009672     0.863084   \n",
              "3             0            0  0.657608  0.632566  0.006961     0.876273   \n",
              "4             4            4  0.506048  0.484107  0.030000     0.910621   \n",
              "\n",
              "   probs_trad  true    vr  correct_trad  correct_bayes  \n",
              "0    0.999930     7  0.87          True           True  \n",
              "1    0.999051     2  0.92          True           True  \n",
              "2    0.999003     1  0.96          True           True  \n",
              "3    0.999288     0  1.00          True           True  \n",
              "4    0.996236     4  0.93          True           True  "
            ]
          },
          "metadata": {
            "tags": []
          },
          "execution_count": 22
        }
      ]
    },
    {
      "metadata": {
        "id": "w_sxI7O8JFEJ",
        "colab_type": "code",
        "outputId": "a88028e0-ddb7-48cb-9856-60ae4c68052f",
        "colab": {
          "base_uri": "https://localhost:8080/",
          "height": 512
        }
      },
      "cell_type": "code",
      "source": [
        "plt.rcParams[\"figure.figsize\"] = (8,8)\n",
        "\n",
        "def abline(slope, intercept):\n",
        "    \"\"\"Plot a line from slope and intercept\"\"\"\n",
        "    axes = plt.gca()\n",
        "    x_vals = np.array(axes.get_xlim())\n",
        "    y_vals = intercept + slope * x_vals\n",
        "    plt.plot(x_vals, y_vals, '--', color = \"black\")\n",
        "\n",
        "# Best guess\n",
        "# Traditional approach is much more confidennt than Bayesian approach\n",
        "ax = df.plot.scatter(x = 'probs_trad', y = 'probs_bayes')\n",
        "ax.set_xlim(0.2, 1)\n",
        "ax.set_ylim(0.2, 1)\n",
        "ax.set_xlabel(\"Softmax point estimate for probability\")\n",
        "ax.set_ylabel(\"Bayesian point estimate for probability\")\n",
        "plt.title(\"All predictions\")\n",
        "\n",
        "abline(1, 0)"
      ],
      "execution_count": 23,
      "outputs": [
        {
          "output_type": "display_data",
          "data": {
            "image/png": "[encoded data removed]",
            "text/plain": [
              "<matplotlib.figure.Figure at 0x7f331e1e8630>"
            ]
          },
          "metadata": {
            "tags": []
          }
        }
      ]
    },
    {
      "metadata": {
        "id": "5N0bM_s6SbJ0",
        "colab_type": "code",
        "outputId": "f5394a67-75a8-4a2e-f171-f72f7e5a83c7",
        "colab": {
          "base_uri": "https://localhost:8080/",
          "height": 497
        }
      },
      "cell_type": "code",
      "source": [
        "ax = df.plot.scatter(x = 'pe_trad', y = 'pe')\n",
        "#ax.set_xlim(0.0, 1)\n",
        "#ax.set_ylim(0., 1)\n",
        "ax.set_xlabel(\"Predictive entropy: Softmax\")\n",
        "ax.set_ylabel(\"Predictive entropy\")\n",
        "abline(1, 0)"
      ],
      "execution_count": 24,
      "outputs": [
        {
          "output_type": "display_data",
          "data": {
            "image/png": "[encoded data removed]",
            "text/plain": [
              "<matplotlib.figure.Figure at 0x7f331be5b7b8>"
            ]
          },
          "metadata": {
            "tags": []
          }
        }
      ]
    },
    {
      "metadata": {
        "id": "Aa4HHzfYJpEn",
        "colab_type": "code",
        "outputId": "760cee15-4ebd-48d4-ffb5-c99364f42985",
        "colab": {
          "base_uri": "https://localhost:8080/",
          "height": 512
        }
      },
      "cell_type": "code",
      "source": [
        "# Things both got wrong\n",
        "ax = df_both_wrong.plot.scatter(x = 'probs_trad', y = 'probs_bayes', color=\"red\")\n",
        "ax.set_xlim(0.2, 1)\n",
        "ax.set_ylim(0.2, 1)\n",
        "ax.set_xlabel(\"Softmax point estimate for probability\")\n",
        "ax.set_ylabel(\"Bayesian point estimate for probability\")\n",
        "plt.title(\"Both wrong\")\n",
        "abline(1, 0)"
      ],
      "execution_count": 25,
      "outputs": [
        {
          "output_type": "display_data",
          "data": {
            "image/png": "[encoded data removed]",
            "text/plain": [
              "<matplotlib.figure.Figure at 0x7f331be5b0b8>"
            ]
          },
          "metadata": {
            "tags": []
          }
        }
      ]
    },
    {
      "metadata": {
        "id": "luvlgK7xPmCS",
        "colab_type": "text"
      },
      "cell_type": "markdown",
      "source": [
        "### Uncertainty: Predictive Entropy"
      ]
    },
    {
      "metadata": {
        "id": "syKJL-_cYpAT",
        "colab_type": "code",
        "colab": {}
      },
      "cell_type": "code",
      "source": [
        "# Uncertainty measure for correct / incorrectly predicted digits\n",
        "# https://stackoverflow.com/questions/21887625/python-empirical-distribution-function-ecdf-implementation\n",
        "df_bayes_correct = df[df.correct_bayes == True]\n",
        "df_bayes_wrong = df[df.correct_bayes == False]\n",
        "\n",
        "df_trad_correct = df[df.correct_trad == True]\n",
        "df_trad_wrong = df[df.correct_trad == False]"
      ],
      "execution_count": 0,
      "outputs": []
    },
    {
      "metadata": {
        "id": "jj0BqNR7dtSE",
        "colab_type": "code",
        "colab": {}
      },
      "cell_type": "code",
      "source": [
        "# Bayes\n",
        "uncer_bayes_correct = df_bayes_correct.pe.value_counts()\n",
        "uncer_bayes_correct = uncer_bayes_correct.sort_index(ascending=False).cumsum()*1./len(uncer_bayes_correct)\n",
        "\n",
        "uncer_bayes_wrong = df_bayes_wrong.pe.value_counts()\n",
        "uncer_bayes_wrong = uncer_bayes_wrong.sort_index(ascending=False).cumsum()*1./len(uncer_bayes_wrong)\n",
        "\n",
        "# Trad\n",
        "uncer_trad_correct = df_trad_correct.pe_trad.value_counts()\n",
        "uncer_trad_correct = uncer_trad_correct.sort_index(ascending=False).cumsum()*1./len(uncer_trad_correct)\n",
        "\n",
        "uncer_trad_wrong = df_trad_wrong.pe_trad.value_counts()\n",
        "uncer_trad_wrong = uncer_trad_wrong.sort_index(ascending=False).cumsum()*1./len(uncer_trad_wrong)"
      ],
      "execution_count": 0,
      "outputs": []
    },
    {
      "metadata": {
        "id": "8AjZ1ZtyUOSB",
        "colab_type": "code",
        "outputId": "fd357d31-c895-4d70-d08e-3a3a19848632",
        "colab": {
          "base_uri": "https://localhost:8080/",
          "height": 529
        }
      },
      "cell_type": "code",
      "source": [
        "si = 2\n",
        "plt.scatter(uncer_bayes_correct.index, uncer_bayes_correct, color=\"green\", s=si)\n",
        "plt.scatter(uncer_bayes_wrong.index, uncer_bayes_wrong, color=\"red\", s=si)\n",
        "plt.title(\"Predictive Entropy: Bayes\")\n",
        "plt.xlabel(\"x: Predictive Entropy\")\n",
        "plt.ylabel(\"Fraction >= x\")\n",
        "plt.axvline(0.75)"
      ],
      "execution_count": 28,
      "outputs": [
        {
          "output_type": "execute_result",
          "data": {
            "text/plain": [
              "<matplotlib.lines.Line2D at 0x7f33182d9f98>"
            ]
          },
          "metadata": {
            "tags": []
          },
          "execution_count": 28
        },
        {
          "output_type": "display_data",
          "data": {
            "image/png": "[encoded data removed]",
            "text/plain": [
              "<matplotlib.figure.Figure at 0x7f331833f780>"
            ]
          },
          "metadata": {
            "tags": []
          }
        }
      ]
    },
    {
      "metadata": {
        "id": "eObJ4wvgYEFE",
        "colab_type": "code",
        "outputId": "290f26e4-a6d6-4ffe-de76-3054346a1200",
        "colab": {
          "base_uri": "https://localhost:8080/",
          "height": 529
        }
      },
      "cell_type": "code",
      "source": [
        "plt.scatter(uncer_trad_correct.index, uncer_trad_correct, color=\"green\", s=si)\n",
        "plt.scatter(uncer_trad_wrong.index, uncer_trad_wrong, color=\"red\", s=si)\n",
        "plt.title(\"Predictive Entropy: Trad\")\n",
        "plt.xlabel(\"x: Predictive Entropy\")\n",
        "plt.ylabel(\"Fraction >= x\")\n",
        "plt.axvline(0.3)"
      ],
      "execution_count": 29,
      "outputs": [
        {
          "output_type": "execute_result",
          "data": {
            "text/plain": [
              "<matplotlib.lines.Line2D at 0x7f331824c898>"
            ]
          },
          "metadata": {
            "tags": []
          },
          "execution_count": 29
        },
        {
          "output_type": "display_data",
          "data": {
            "image/png": "[encoded data removed]",
            "text/plain": [
              "<matplotlib.figure.Figure at 0x7f3318284b00>"
            ]
          },
          "metadata": {
            "tags": []
          }
        }
      ]
    },
    {
      "metadata": {
        "id": "SEhaGW63fz6d",
        "colab_type": "code",
        "outputId": "bc47aaa5-8f51-4ccf-f0ca-b3da80fc36fb",
        "colab": {
          "base_uri": "https://localhost:8080/",
          "height": 529
        }
      },
      "cell_type": "code",
      "source": [
        "plt.scatter(uncer_bayes_correct.index, uncer_bayes_correct, color=\"green\", s=0.5)\n",
        "plt.scatter(uncer_bayes_wrong.index, uncer_bayes_wrong, color=\"red\", s=0.5)\n",
        "\n",
        "plt.scatter(uncer_trad_correct.index, uncer_trad_correct, color=\"green\", s =0.1)\n",
        "plt.scatter(uncer_trad_wrong.index, uncer_trad_wrong, color=\"red\", s =0.1)\n",
        "\n",
        "plt.title(\"Predictive Entropy: Bayes\")\n",
        "plt.xlabel(\"x: Predictive Entropy\")\n",
        "plt.ylabel(\"Fraction >= x\")"
      ],
      "execution_count": 30,
      "outputs": [
        {
          "output_type": "execute_result",
          "data": {
            "text/plain": [
              "Text(0,0.5,'Fraction >= x')"
            ]
          },
          "metadata": {
            "tags": []
          },
          "execution_count": 30
        },
        {
          "output_type": "display_data",
          "data": {
            "image/png": "[encoded data removed]",
            "text/plain": [
              "<matplotlib.figure.Figure at 0x7f33183226a0>"
            ]
          },
          "metadata": {
            "tags": []
          }
        }
      ]
    },
    {
      "metadata": {
        "id": "Xf_fWFQ-Proh",
        "colab_type": "text"
      },
      "cell_type": "markdown",
      "source": [
        "### Uncertainity Mutual information"
      ]
    },
    {
      "metadata": {
        "id": "SEPVRtnnPvS8",
        "colab_type": "code",
        "colab": {}
      },
      "cell_type": "code",
      "source": [
        "# Bayes\n",
        "uncer_bayes_correct = df_bayes_correct.mi.value_counts()\n",
        "uncer_bayes_correct = uncer_bayes_correct.sort_index(ascending=False).cumsum()*1./len(uncer_bayes_correct)\n",
        "\n",
        "uncer_bayes_wrong = df_bayes_wrong.mi.value_counts()\n",
        "uncer_bayes_wrong = uncer_bayes_wrong.sort_index(ascending=False).cumsum()*1./len(uncer_bayes_wrong)\n",
        "\n",
        "# Trad\n",
        "uncer_trad_correct = df_trad_correct.pe_trad.value_counts()\n",
        "uncer_trad_correct = uncer_trad_correct.sort_index(ascending=False).cumsum()*1./len(uncer_trad_correct)\n",
        "\n",
        "uncer_trad_wrong = df_trad_wrong.pe_trad.value_counts()\n",
        "uncer_trad_wrong = uncer_trad_wrong.sort_index(ascending=False).cumsum()*1./len(uncer_trad_wrong)"
      ],
      "execution_count": 0,
      "outputs": []
    },
    {
      "metadata": {
        "id": "QHBoAbgqQIwC",
        "colab_type": "code",
        "outputId": "6be8f93e-c969-4005-ba8f-d48123d7de24",
        "colab": {
          "base_uri": "https://localhost:8080/",
          "height": 529
        }
      },
      "cell_type": "code",
      "source": [
        "plt.rcParams[\"figure.figsize\"] = (8,8)\n",
        "si = 3\n",
        "plt.scatter(uncer_bayes_correct.index, uncer_bayes_correct, color=\"green\", s=si)\n",
        "plt.scatter(uncer_bayes_wrong.index, uncer_bayes_wrong, color=\"red\", s=si)\n",
        "plt.title(\"Mutual Information: Bayes\")\n",
        "plt.xlabel(\"x: Mutual Information\")\n",
        "plt.ylabel(\"Fraction >= x\")\n",
        "plt.axvline(0.78)"
      ],
      "execution_count": 32,
      "outputs": [
        {
          "output_type": "execute_result",
          "data": {
            "text/plain": [
              "<matplotlib.lines.Line2D at 0x7f33181a1550>"
            ]
          },
          "metadata": {
            "tags": []
          },
          "execution_count": 32
        },
        {
          "output_type": "display_data",
          "data": {
            "image/png": "[encoded data removed]",
            "text/plain": [
              "<matplotlib.figure.Figure at 0x7f33183983c8>"
            ]
          },
          "metadata": {
            "tags": []
          }
        }
      ]
    },
    {
      "metadata": {
        "id": "oZkNHIJDPvl-",
        "colab_type": "text"
      },
      "cell_type": "markdown",
      "source": [
        "### Examples"
      ]
    },
    {
      "metadata": {
        "id": "n83fotZOJc-U",
        "colab_type": "code",
        "outputId": "ce2a5e83-713c-4eae-c599-d7b63ca8fe8b",
        "colab": {
          "base_uri": "https://localhost:8080/",
          "height": 826
        }
      },
      "cell_type": "code",
      "source": [
        "k = 9729\n",
        "# 9729\t6\t6\tmi=0.82\tpe=0.79\tpe_trad=0.003\tprob_b=0.83\tprob_t=0.99\tref=5\tvr=0.82\n",
        "\n",
        "plt.imshow(mnist.test.images[k].reshape(28,28))\n",
        "plt.show()\n",
        "print(mnist.test.labels[k])\n",
        "df_both_wrong.tail(n=10)"
      ],
      "execution_count": 33,
      "outputs": [
        {
          "output_type": "display_data",
          "data": {
            "image/png": "[encoded data removed]",
            "text/plain": [
              "<matplotlib.figure.Figure at 0x7f331837e550>"
            ]
          },
          "metadata": {
            "tags": []
          }
        },
        {
          "output_type": "stream",
          "text": [
            "[0. 0. 0. 0. 0. 1. 0. 0. 0. 0.]\n"
          ],
          "name": "stdout"
        },
        {
          "output_type": "execute_result",
          "data": {
            "text/html": [
              "<div>\n",
              "<style scoped>\n",
              "    .dataframe tbody tr th:only-of-type {\n",
              "        vertical-align: middle;\n",
              "    }\n",
              "\n",
              "    .dataframe tbody tr th {\n",
              "        vertical-align: top;\n",
              "    }\n",
              "\n",
              "    .dataframe thead th {\n",
              "        text-align: right;\n",
              "    }\n",
              "</style>\n",
              "<table border=\"1\" class=\"dataframe\">\n",
              "  <thead>\n",
              "    <tr style=\"text-align: right;\">\n",
              "      <th></th>\n",
              "      <th>labels_bayes</th>\n",
              "      <th>labels_trad</th>\n",
              "      <th>mi</th>\n",
              "      <th>pe</th>\n",
              "      <th>pe_trad</th>\n",
              "      <th>probs_bayes</th>\n",
              "      <th>probs_trad</th>\n",
              "      <th>true</th>\n",
              "      <th>vr</th>\n",
              "      <th>correct_trad</th>\n",
              "      <th>correct_bayes</th>\n",
              "    </tr>\n",
              "  </thead>\n",
              "  <tbody>\n",
              "    <tr>\n",
              "      <th>9729</th>\n",
              "      <td>6</td>\n",
              "      <td>6</td>\n",
              "      <td>0.890255</td>\n",
              "      <td>0.842333</td>\n",
              "      <td>0.068802</td>\n",
              "      <td>0.788331</td>\n",
              "      <td>0.989475</td>\n",
              "      <td>5</td>\n",
              "      <td>0.83</td>\n",
              "      <td>False</td>\n",
              "      <td>False</td>\n",
              "    </tr>\n",
              "    <tr>\n",
              "      <th>9768</th>\n",
              "      <td>0</td>\n",
              "      <td>0</td>\n",
              "      <td>2.187288</td>\n",
              "      <td>2.067820</td>\n",
              "      <td>1.295368</td>\n",
              "      <td>0.347589</td>\n",
              "      <td>0.554275</td>\n",
              "      <td>2</td>\n",
              "      <td>0.53</td>\n",
              "      <td>False</td>\n",
              "      <td>False</td>\n",
              "    </tr>\n",
              "    <tr>\n",
              "      <th>9770</th>\n",
              "      <td>0</td>\n",
              "      <td>0</td>\n",
              "      <td>1.023584</td>\n",
              "      <td>0.969741</td>\n",
              "      <td>0.734777</td>\n",
              "      <td>0.784774</td>\n",
              "      <td>0.761156</td>\n",
              "      <td>5</td>\n",
              "      <td>0.97</td>\n",
              "      <td>False</td>\n",
              "      <td>False</td>\n",
              "    </tr>\n",
              "    <tr>\n",
              "      <th>9792</th>\n",
              "      <td>9</td>\n",
              "      <td>9</td>\n",
              "      <td>2.066388</td>\n",
              "      <td>1.936462</td>\n",
              "      <td>1.182004</td>\n",
              "      <td>0.378145</td>\n",
              "      <td>0.626972</td>\n",
              "      <td>4</td>\n",
              "      <td>0.50</td>\n",
              "      <td>False</td>\n",
              "      <td>False</td>\n",
              "    </tr>\n",
              "    <tr>\n",
              "      <th>9811</th>\n",
              "      <td>8</td>\n",
              "      <td>8</td>\n",
              "      <td>1.302613</td>\n",
              "      <td>1.225233</td>\n",
              "      <td>0.732856</td>\n",
              "      <td>0.700273</td>\n",
              "      <td>0.801485</td>\n",
              "      <td>2</td>\n",
              "      <td>0.79</td>\n",
              "      <td>False</td>\n",
              "      <td>False</td>\n",
              "    </tr>\n",
              "    <tr>\n",
              "      <th>9839</th>\n",
              "      <td>7</td>\n",
              "      <td>7</td>\n",
              "      <td>1.635735</td>\n",
              "      <td>1.533637</td>\n",
              "      <td>0.434730</td>\n",
              "      <td>0.593659</td>\n",
              "      <td>0.906423</td>\n",
              "      <td>2</td>\n",
              "      <td>0.79</td>\n",
              "      <td>False</td>\n",
              "      <td>False</td>\n",
              "    </tr>\n",
              "    <tr>\n",
              "      <th>9867</th>\n",
              "      <td>8</td>\n",
              "      <td>8</td>\n",
              "      <td>1.983236</td>\n",
              "      <td>1.863431</td>\n",
              "      <td>1.210144</td>\n",
              "      <td>0.425164</td>\n",
              "      <td>0.479985</td>\n",
              "      <td>2</td>\n",
              "      <td>0.56</td>\n",
              "      <td>False</td>\n",
              "      <td>False</td>\n",
              "    </tr>\n",
              "    <tr>\n",
              "      <th>9892</th>\n",
              "      <td>5</td>\n",
              "      <td>6</td>\n",
              "      <td>1.748680</td>\n",
              "      <td>1.626793</td>\n",
              "      <td>1.153648</td>\n",
              "      <td>0.483872</td>\n",
              "      <td>0.537987</td>\n",
              "      <td>8</td>\n",
              "      <td>0.70</td>\n",
              "      <td>False</td>\n",
              "      <td>False</td>\n",
              "    </tr>\n",
              "    <tr>\n",
              "      <th>9905</th>\n",
              "      <td>9</td>\n",
              "      <td>9</td>\n",
              "      <td>1.688912</td>\n",
              "      <td>1.582503</td>\n",
              "      <td>1.326494</td>\n",
              "      <td>0.541661</td>\n",
              "      <td>0.464225</td>\n",
              "      <td>3</td>\n",
              "      <td>0.70</td>\n",
              "      <td>False</td>\n",
              "      <td>False</td>\n",
              "    </tr>\n",
              "    <tr>\n",
              "      <th>9982</th>\n",
              "      <td>6</td>\n",
              "      <td>6</td>\n",
              "      <td>1.806530</td>\n",
              "      <td>1.704552</td>\n",
              "      <td>0.146222</td>\n",
              "      <td>0.522951</td>\n",
              "      <td>0.977351</td>\n",
              "      <td>5</td>\n",
              "      <td>0.66</td>\n",
              "      <td>False</td>\n",
              "      <td>False</td>\n",
              "    </tr>\n",
              "  </tbody>\n",
              "</table>\n",
              "</div>"
            ],
            "text/plain": [
              "      labels_bayes  labels_trad        mi        pe   pe_trad  probs_bayes  \\\n",
              "9729             6            6  0.890255  0.842333  0.068802     0.788331   \n",
              "9768             0            0  2.187288  2.067820  1.295368     0.347589   \n",
              "9770             0            0  1.023584  0.969741  0.734777     0.784774   \n",
              "9792             9            9  2.066388  1.936462  1.182004     0.378145   \n",
              "9811             8            8  1.302613  1.225233  0.732856     0.700273   \n",
              "9839             7            7  1.635735  1.533637  0.434730     0.593659   \n",
              "9867             8            8  1.983236  1.863431  1.210144     0.425164   \n",
              "9892             5            6  1.748680  1.626793  1.153648     0.483872   \n",
              "9905             9            9  1.688912  1.582503  1.326494     0.541661   \n",
              "9982             6            6  1.806530  1.704552  0.146222     0.522951   \n",
              "\n",
              "      probs_trad  true    vr  correct_trad  correct_bayes  \n",
              "9729    0.989475     5  0.83         False          False  \n",
              "9768    0.554275     2  0.53         False          False  \n",
              "9770    0.761156     5  0.97         False          False  \n",
              "9792    0.626972     4  0.50         False          False  \n",
              "9811    0.801485     2  0.79         False          False  \n",
              "9839    0.906423     2  0.79         False          False  \n",
              "9867    0.479985     2  0.56         False          False  \n",
              "9892    0.537987     8  0.70         False          False  \n",
              "9905    0.464225     3  0.70         False          False  \n",
              "9982    0.977351     5  0.66         False          False  "
            ]
          },
          "metadata": {
            "tags": []
          },
          "execution_count": 33
        }
      ]
    },
    {
      "metadata": {
        "id": "qXNQDXzXPxDk",
        "colab_type": "text"
      },
      "cell_type": "markdown",
      "source": [
        "## EMnist\n",
        "We know that in this case, the data set is out of distribution. Usually, we don't have this information."
      ]
    },
    {
      "metadata": {
        "id": "4QvEpb9nGdRZ",
        "colab_type": "code",
        "outputId": "7414595b-9bf9-4645-c8a0-97bcd4e392ab",
        "colab": {
          "base_uri": "https://localhost:8080/",
          "height": 538
        }
      },
      "cell_type": "code",
      "source": [
        "# Download data set from here: https://www.nist.gov/itl/iad/image-group/emnist-dataset\n",
        "# Upload to gDrive\n",
        "# Copy from gDrive\n",
        "!cp '/content/drive/My Drive/Colab Notebooks/emnist.zip' .\n",
        "\n",
        "!rm -fr gzip\n",
        "\n",
        "# Unzip\n",
        "!unzip emnist.zip"
      ],
      "execution_count": 34,
      "outputs": [
        {
          "output_type": "stream",
          "text": [
            "Archive:  emnist.zip\n",
            "  inflating: gzip/emnist-balanced-mapping.txt  \n",
            "  inflating: gzip/emnist-balanced-test-images-idx3-ubyte.gz  \n",
            " extracting: gzip/emnist-balanced-test-labels-idx1-ubyte.gz  \n",
            "  inflating: gzip/emnist-balanced-train-images-idx3-ubyte.gz  \n",
            "  inflating: gzip/emnist-balanced-train-labels-idx1-ubyte.gz  \n",
            "  inflating: gzip/emnist-byclass-mapping.txt  \n",
            "  inflating: gzip/emnist-byclass-test-images-idx3-ubyte.gz  \n",
            "  inflating: gzip/emnist-byclass-test-labels-idx1-ubyte.gz  \n",
            "  inflating: gzip/emnist-byclass-train-images-idx3-ubyte.gz  \n",
            "  inflating: gzip/emnist-byclass-train-labels-idx1-ubyte.gz  \n",
            "  inflating: gzip/emnist-bymerge-mapping.txt  \n",
            "  inflating: gzip/emnist-bymerge-test-images-idx3-ubyte.gz  \n",
            "  inflating: gzip/emnist-bymerge-test-labels-idx1-ubyte.gz  \n",
            "  inflating: gzip/emnist-bymerge-train-images-idx3-ubyte.gz  \n",
            "  inflating: gzip/emnist-bymerge-train-labels-idx1-ubyte.gz  \n",
            "  inflating: gzip/emnist-digits-mapping.txt  \n",
            "  inflating: gzip/emnist-digits-test-images-idx3-ubyte.gz  \n",
            "  inflating: gzip/emnist-digits-test-labels-idx1-ubyte.gz  \n",
            "  inflating: gzip/emnist-digits-train-images-idx3-ubyte.gz  \n",
            "  inflating: gzip/emnist-digits-train-labels-idx1-ubyte.gz  \n",
            "  inflating: gzip/emnist-letters-mapping.txt  \n",
            "  inflating: gzip/emnist-letters-test-images-idx3-ubyte.gz  \n",
            " extracting: gzip/emnist-letters-test-labels-idx1-ubyte.gz  \n",
            "  inflating: gzip/emnist-letters-train-images-idx3-ubyte.gz  \n",
            "  inflating: gzip/emnist-letters-train-labels-idx1-ubyte.gz  \n",
            "  inflating: gzip/emnist-mnist-mapping.txt  \n",
            "  inflating: gzip/emnist-mnist-test-images-idx3-ubyte.gz  \n",
            " extracting: gzip/emnist-mnist-test-labels-idx1-ubyte.gz  \n",
            "  inflating: gzip/emnist-mnist-train-images-idx3-ubyte.gz  \n",
            "  inflating: gzip/emnist-mnist-train-labels-idx1-ubyte.gz  \n"
          ],
          "name": "stdout"
        }
      ]
    },
    {
      "metadata": {
        "id": "XTa37vlGB0sT",
        "colab_type": "code",
        "colab": {}
      },
      "cell_type": "code",
      "source": [
        "import gzip\n",
        "\n",
        "def _read32(bytestream):\n",
        "    dt = np.dtype(np.uint32).newbyteorder('>')\n",
        "    return np.frombuffer(bytestream.read(4), dtype=dt)[0]\n",
        "\n",
        "\n",
        "def extract_images(filename):\n",
        "    with gzip.open(filename) as bytestream:\n",
        "        magic = _read32(bytestream)\n",
        "        if magic != 2051:\n",
        "            raise ValueError(\n",
        "                'Invalid magic number %d in MNIST image file: %s' %\n",
        "                (magic, filename))\n",
        "        num_images = _read32(bytestream)\n",
        "        rows = _read32(bytestream)\n",
        "        cols = _read32(bytestream)\n",
        "        buf = bytestream.read(rows * cols * num_images)\n",
        "        data = np.frombuffer(buf, dtype=np.uint8)\n",
        "        data = data.reshape(num_images, rows, cols, 1)\n",
        "        return data\n",
        "\n",
        "\n",
        "def extract_labels(filename):\n",
        "    with gzip.open(filename) as bytestream:\n",
        "        magic = _read32(bytestream)\n",
        "        if magic != 2049:\n",
        "            raise ValueError(\n",
        "              'Invalid magic number %d in MNIST label file: %s' %\n",
        "              (magic, filename))\n",
        "        num_items = _read32(bytestream)\n",
        "        buf = bytestream.read(num_items)\n",
        "        labels = np.frombuffer(buf, dtype=np.uint8)\n",
        "        return labels\n",
        "\n",
        "\n",
        "def read_emnist(emnist_dir):\n",
        "\n",
        "    TRAIN_IMAGES = emnist_dir+'/emnist-balanced-train-images-idx3-ubyte.gz'\n",
        "    TRAIN_LABELS = emnist_dir+'/emnist-balanced-train-labels-idx1-ubyte.gz'\n",
        "    TEST_IMAGES = emnist_dir+'/emnist-balanced-test-images-idx3-ubyte.gz'\n",
        "    TEST_LABELS = emnist_dir+'/emnist-balanced-test-labels-idx1-ubyte.gz'\n",
        "    MAPPING = emnist_dir+'/emnist-balanced-mapping.txt'\n",
        "\n",
        "    train_images = extract_images(TRAIN_IMAGES)\n",
        "    train_labels = extract_labels(TRAIN_LABELS)\n",
        "    test_images = extract_images(TEST_IMAGES)\n",
        "    test_labels = extract_labels(TEST_LABELS)\n",
        "\n",
        "    with open(MAPPING, \"r\") as f:\n",
        "        mapping = f.readlines()\n",
        "        mapping = {str(x.split()[0]): str(x.split()[1]) for x in mapping}\n",
        "\n",
        "    # Convert to float32\n",
        "    train_images = train_images.astype('float32')\n",
        "    test_images = test_images.astype('float32')\n",
        "\n",
        "    # Normalize\n",
        "    train_images /= 255\n",
        "    test_images /= 255\n",
        "\n",
        "    # Output format: (28, 28, 1)\n",
        "    return ((train_images, train_labels), (test_images, test_labels), mapping)"
      ],
      "execution_count": 0,
      "outputs": []
    },
    {
      "metadata": {
        "id": "lFrA4jG68tK6",
        "colab_type": "code",
        "outputId": "8aa45450-eb57-404c-a08f-a6310d094296",
        "colab": {
          "base_uri": "https://localhost:8080/",
          "height": 34
        }
      },
      "cell_type": "code",
      "source": [
        "emnist = read_emnist('gzip')\n",
        "\n",
        "X = np.float32(emnist[1][0].reshape(18800, 784))\n",
        "y = np.float32(emnist[1][1])\n",
        "X.shape"
      ],
      "execution_count": 36,
      "outputs": [
        {
          "output_type": "execute_result",
          "data": {
            "text/plain": [
              "(18800, 784)"
            ]
          },
          "metadata": {
            "tags": []
          },
          "execution_count": 36
        }
      ]
    },
    {
      "metadata": {
        "id": "QPR62sGsdlEp",
        "colab_type": "code",
        "colab": {}
      },
      "cell_type": "code",
      "source": [
        "# Select characters A and Y that are clearly out of distribution\n",
        "# http://isn.ucsd.edu/courses/bggn260/2017/reports/2017_Group2.pdf\n",
        "\n",
        "# 1\n",
        "itemindex1 = np.where(y==1)\n",
        "X1 = X[itemindex1]\n",
        "\n",
        "# A\n",
        "itemindexA = np.where(y==10)\n",
        "XA = X[itemindexA]\n",
        "\n",
        "# W\n",
        "itemindexW = np.where(y==32)\n",
        "XW = X[itemindexW]"
      ],
      "execution_count": 0,
      "outputs": []
    },
    {
      "metadata": {
        "id": "8c-xsHHmfvu4",
        "colab_type": "code",
        "outputId": "837bfffa-cd59-4d8c-8b9a-801484f2765b",
        "colab": {
          "base_uri": "https://localhost:8080/",
          "height": 500
        }
      },
      "cell_type": "code",
      "source": [
        "import matplotlib.pylab as pl\n",
        "import matplotlib.gridspec as gridspec\n",
        "\n",
        "k = 0\n",
        "\n",
        "# Create 2x2 sub plots\n",
        "gs = gridspec.GridSpec(2, 2)\n",
        "\n",
        "pl.figure()\n",
        "ax = pl.subplot(gs[0, 0]) # row 0, col 0\n",
        "im = X1[k].reshape((28,28))\n",
        "pl.plt.imshow(im.T)\n",
        "\n",
        "ax = pl.subplot(gs[0, 1]) # row 0, col 1\n",
        "im = XA[k].reshape((28,28))\n",
        "pl.plt.imshow(im.T)\n",
        "\n",
        "\n",
        "ax = pl.subplot(gs[1, :]) # row 1, span all columns\n",
        "im = XW[k].reshape((28,28))\n",
        "pl.plt.imshow(im.T)"
      ],
      "execution_count": 38,
      "outputs": [
        {
          "output_type": "execute_result",
          "data": {
            "text/plain": [
              "<matplotlib.image.AxesImage at 0x7f331806fc18>"
            ]
          },
          "metadata": {
            "tags": []
          },
          "execution_count": 38
        },
        {
          "output_type": "display_data",
          "data": {
            "image/png": "[encoded data removed]",
            "text/plain": [
              "<matplotlib.figure.Figure at 0x7f331a4516a0>"
            ]
          },
          "metadata": {
            "tags": []
          }
        }
      ]
    },
    {
      "metadata": {
        "id": "Q8gleJLMg7tB",
        "colab_type": "code",
        "colab": {}
      },
      "cell_type": "code",
      "source": [
        "# Predict A, Z, 1\n",
        "\n",
        "## Trad\n",
        "def get_probs_trad(input):\n",
        "  y_prob = tf.nn.softmax(y_conv)\n",
        "  \n",
        "  pred_trad = sess.run(y_prob, feed_dict={x: input,                                          \n",
        "                                         keep_prob: float(1.0)})\n",
        "  \n",
        "  labels_trad = np.argmax(pred_trad, axis=1)\n",
        "  probs_trad = np.max(pred_trad, axis=1)\n",
        "\n",
        "  Eprobs_trad = probs_trad\n",
        "\n",
        "  return(Eprobs_trad)\n",
        "\n",
        "\n",
        "Eprobs_trad1 = get_probs_trad(X1)  \n",
        "Eprobs_tradA = get_probs_trad(XA)  \n",
        "Eprobs_tradW = get_probs_trad(XW)  "
      ],
      "execution_count": 0,
      "outputs": []
    },
    {
      "metadata": {
        "id": "gOzmxVcNiMpf",
        "colab_type": "code",
        "colab": {}
      },
      "cell_type": "code",
      "source": [
        "def get_probs_bayes(input):\n",
        "    Esamples = np.zeros( shape=(N, input.shape[0], 10))\n",
        "\n",
        "    for n in range(N):\n",
        "        logits = sess.run(By_conv, feed_dict={x: input,                                               \n",
        "                                              keep_prob: bayesian_keep_prob})\n",
        "        Esamples[n] = softmax(logits)\n",
        "\n",
        "    Esamples_avg = np.sum(Esamples, axis=0) / N\n",
        "    Elabels_bayes = np.argmax(Esamples_avg, axis=1)\n",
        "    Eprobs_bayes = np.max(Esamples_avg, axis=1)\n",
        "    \n",
        "    return(Eprobs_bayes)\n",
        "  \n",
        "Eprobs_bayes1 = get_probs_bayes(X1)  \n",
        "Eprobs_bayesA = get_probs_bayes(XA)  \n",
        "Eprobs_bayesW = get_probs_bayes(XW)"
      ],
      "execution_count": 0,
      "outputs": []
    },
    {
      "metadata": {
        "id": "vxjTxUrtzGDH",
        "colab_type": "code",
        "outputId": "2394775e-d5a3-473c-a8e6-1076ad2b5c90",
        "colab": {
          "base_uri": "https://localhost:8080/",
          "height": 620
        }
      },
      "cell_type": "code",
      "source": [
        "plt.rcParams[\"figure.figsize\"] = (10,10)\n",
        "\n",
        "\n",
        "ax = plt.scatter(Eprobs_trad1, Eprobs_bayes1, s=5)\n",
        "plt.xlim(0.2, 1)\n",
        "plt.ylim(0.2, 1)\n",
        "plt.xlabel(\"Softmax point estimate for probability\")\n",
        "plt.ylabel(\"Bayesian point estimate for probability\")\n",
        "plt.title(\"Best estimates: 1\")\n",
        "abline(1, 0)"
      ],
      "execution_count": 41,
      "outputs": [
        {
          "output_type": "display_data",
          "data": {
            "image/png": "[encoded data removed]",
            "text/plain": [
              "<matplotlib.figure.Figure at 0x7f3317fddd30>"
            ]
          },
          "metadata": {
            "tags": []
          }
        }
      ]
    },
    {
      "metadata": {
        "id": "4VC8QOIui7pe",
        "colab_type": "code",
        "outputId": "0cdec4da-f3fb-46b5-e23f-2ef302523897",
        "colab": {
          "base_uri": "https://localhost:8080/",
          "height": 620
        }
      },
      "cell_type": "code",
      "source": [
        "ax = plt.scatter(Eprobs_tradA, Eprobs_bayesA, s=5)\n",
        "plt.xlim(0.2, 1)\n",
        "plt.ylim(0.2, 1)\n",
        "plt.xlabel(\"Softmax point estimate for probability\")\n",
        "plt.ylabel(\"Bayesian point estimate for probability\")\n",
        "plt.title(\"Best estimates: Z\")\n",
        "abline(1, 0)"
      ],
      "execution_count": 42,
      "outputs": [
        {
          "output_type": "display_data",
          "data": {
            "image/png": "[encoded data removed]",
            "text/plain": [
              "<matplotlib.figure.Figure at 0x7f3317fcf780>"
            ]
          },
          "metadata": {
            "tags": []
          }
        }
      ]
    },
    {
      "metadata": {
        "id": "1GYMwvQujEFj",
        "colab_type": "code",
        "outputId": "666ff06b-96b8-46d2-bdfe-967594093080",
        "colab": {
          "base_uri": "https://localhost:8080/",
          "height": 620
        }
      },
      "cell_type": "code",
      "source": [
        "ax = plt.scatter(Eprobs_tradW, Eprobs_bayesW, s=5)\n",
        "plt.xlim(0.2, 1)\n",
        "plt.ylim(0.2, 1)\n",
        "plt.xlabel(\"Softmax point estimate for probability\")\n",
        "plt.ylabel(\"Bayesian point estimate for probability\")\n",
        "plt.title(\"Best estimates: W\")\n",
        "abline(1, 0)"
      ],
      "execution_count": 43,
      "outputs": [
        {
          "output_type": "display_data",
          "data": {
            "image/png": "[encoded data removed]",
            "text/plain": [
              "<matplotlib.figure.Figure at 0x7f3317734c88>"
            ]
          },
          "metadata": {
            "tags": []
          }
        }
      ]
    },
    {
      "metadata": {
        "id": "NTEQ-sKOjzSP",
        "colab_type": "code",
        "colab": {}
      },
      "cell_type": "code",
      "source": [
        ""
      ],
      "execution_count": 0,
      "outputs": []
    },
    {
      "metadata": {
        "id": "eykaJ60OtyZV",
        "colab_type": "text"
      },
      "cell_type": "markdown",
      "source": [
        "## Active learning\n",
        "\n",
        "Acquisition function: MI\n",
        "\n",
        "Start with 20 images. After each training, increase by 10 images based on images with highest MI.N_"
      ]
    },
    {
      "metadata": {
        "id": "n4gaP2-w9mwN",
        "colab_type": "text"
      },
      "cell_type": "markdown",
      "source": [
        "### Bayesian"
      ]
    },
    {
      "metadata": {
        "id": "qpgGUwc4t7-d",
        "colab_type": "code",
        "colab": {
          "base_uri": "https://localhost:8080/",
          "height": 4217
        },
        "outputId": "b68f1502-b20f-4223-f42f-6c01b09c05c5"
      },
      "cell_type": "code",
      "source": [
        "N_train_acq = 2000\n",
        "N_sample_acq = 100\n",
        "N_steps = 50\n",
        "\n",
        "# Store output\n",
        "Bayes = {}\n",
        "Trad = {}\n",
        "\n",
        "# Initial data set\n",
        "np.random.seed(123)\n",
        "start_shuffle = np.random.permutation(mnist.train.images.shape[0])\n",
        "\n",
        "\n",
        "train_images = mnist.train.images[start_shuffle][0:20]\n",
        "train_labels = mnist.train.labels[start_shuffle][0:20]\n",
        "\n",
        "undlab_images = mnist.train.images[start_shuffle][20:10000]\n",
        "undlab_labels = mnist.train.labels[start_shuffle][20:10000]\n",
        "\n",
        "for kk in range(N_steps):\n",
        "  \n",
        "    # Train model\n",
        "    sess = tf.Session()\n",
        "    sess.run(tf.global_variables_initializer())\n",
        "\n",
        "\n",
        "    for i in range(int(N_train_acq)+1):\n",
        "\n",
        "        # Training\n",
        "        _, loss = sess.run([Btrain_step, Bcross_entropy], \n",
        "                           feed_dict={x: train_images, y_true: train_labels, \n",
        "                                      keep_prob: float(bayesian_keep_prob)})\n",
        "\n",
        "        # Status report\n",
        "        if i % 1000 == 0:\n",
        "            train_acc = sess.run(Baccuracy, feed_dict={x: train_images, \n",
        "                                                      y_true: train_labels, \n",
        "                                                      keep_prob: float(1.0)})\n",
        "\n",
        "            test_acc = sess.run(Baccuracy, feed_dict={x: mnist.test.images,\n",
        "                                                      y_true: mnist.test.labels, \n",
        "                                                      keep_prob: 1.0})\n",
        "            info = [str(tx) for tx in [i, loss, train_acc, test_acc] ]\n",
        "            print('\\t'.join(info))\n",
        "\n",
        "            \n",
        "\n",
        "    # Find points model is most uncertain about\n",
        "    samples = np.zeros( shape=(N_sample_acq, undlab_images.shape[0], 10))\n",
        "\n",
        "    for n in range(N_sample_acq):\n",
        "        logits = sess.run(By_conv, feed_dict={x: undlab_images,\n",
        "                                             keep_prob: bayesian_keep_prob})\n",
        "        samples[n] = softmax(logits)\n",
        "\n",
        "    mi = mut_inf(samples)\n",
        "    \n",
        "\n",
        "    # Add points to training data\n",
        "    idx_to_add = np.argsort(mi, axis=0)\n",
        "    idx_to_add = idx_to_add[-10:]\n",
        "\n",
        "    train_images = np.append(train_images, undlab_images[idx_to_add], axis=0)\n",
        "    train_labels = np.append(train_labels, undlab_labels[idx_to_add], axis=0)\n",
        "    undlab_images = np.delete(undlab_images, idx_to_add, axis=0)\n",
        "    undlab_labels = np.delete(undlab_labels, idx_to_add, axis=0)\n",
        "\n",
        "\n",
        "    print(\"Number of training images: {}: {}\".format(kk, train_images.shape))\n",
        "    print(\"Number of unlabeled images: {}: {}\".format(kk, undlab_images.shape))\n",
        "    \n",
        "    Bayes[kk] = \"{} {} {}\".format(kk, train_images.shape[0], test_acc)\n"
      ],
      "execution_count": 112,
      "outputs": [
        {
          "output_type": "stream",
          "text": [
            "0\t7.5759964\t0.2\t0.1114\n",
            "1000\t0.069954984\t1.0\t0.4984\n",
            "2000\t0.10432263\t1.0\t0.4888\n",
            "Number of training images: 0: (30, 784)\n",
            "Number of unlabeled images: 0: (9970, 784)\n",
            "0\t6.1279225\t0.2\t0.1115\n",
            "1000\t0.15542391\t1.0\t0.6269\n",
            "2000\t0.19897293\t1.0\t0.6346\n",
            "Number of training images: 1: (40, 784)\n",
            "Number of unlabeled images: 1: (9960, 784)\n",
            "0\t6.9172835\t0.175\t0.0881\n",
            "1000\t0.15371576\t1.0\t0.712\n",
            "2000\t0.22172228\t1.0\t0.7341\n",
            "Number of training images: 2: (50, 784)\n",
            "Number of unlabeled images: 2: (9950, 784)\n",
            "0\t6.6193194\t0.08\t0.0858\n",
            "1000\t0.21670067\t1.0\t0.7966\n",
            "2000\t0.2827509\t1.0\t0.8045\n",
            "Number of training images: 3: (60, 784)\n",
            "Number of unlabeled images: 3: (9940, 784)\n",
            "0\t5.8220854\t0.16666667\t0.1287\n",
            "1000\t0.22375211\t1.0\t0.8064\n",
            "2000\t0.1636186\t1.0\t0.8119\n",
            "Number of training images: 4: (70, 784)\n",
            "Number of unlabeled images: 4: (9930, 784)\n",
            "0\t9.4183035\t0.028571429\t0.0184\n",
            "1000\t0.14769343\t1.0\t0.8516\n",
            "2000\t0.17941108\t1.0\t0.8502\n",
            "Number of training images: 5: (80, 784)\n",
            "Number of unlabeled images: 5: (9920, 784)\n",
            "0\t7.6865034\t0.0375\t0.075\n",
            "1000\t0.20455989\t1.0\t0.8509\n",
            "2000\t0.16291377\t1.0\t0.851\n",
            "Number of training images: 6: (90, 784)\n",
            "Number of unlabeled images: 6: (9910, 784)\n",
            "0\t6.8443985\t0.22222222\t0.124\n",
            "1000\t0.23260176\t1.0\t0.8633\n",
            "2000\t0.21705016\t1.0\t0.8602\n",
            "Number of training images: 7: (100, 784)\n",
            "Number of unlabeled images: 7: (9900, 784)\n",
            "0\t7.0619287\t0.09\t0.0578\n",
            "1000\t0.14001715\t1.0\t0.862\n",
            "2000\t0.102547266\t1.0\t0.87\n",
            "Number of training images: 8: (110, 784)\n",
            "Number of unlabeled images: 8: (9890, 784)\n",
            "0\t7.5245943\t0.054545455\t0.0703\n",
            "1000\t0.16951579\t1.0\t0.872\n",
            "2000\t0.15941368\t1.0\t0.8781\n",
            "Number of training images: 9: (120, 784)\n",
            "Number of unlabeled images: 9: (9880, 784)\n",
            "0\t4.7088456\t0.125\t0.0862\n",
            "1000\t0.19128662\t1.0\t0.8739\n",
            "2000\t0.13158825\t1.0\t0.8792\n",
            "Number of training images: 10: (130, 784)\n",
            "Number of unlabeled images: 10: (9870, 784)\n",
            "0\t7.82099\t0.14615385\t0.1353\n",
            "1000\t0.24857947\t1.0\t0.8846\n",
            "2000\t0.15493393\t1.0\t0.8845\n",
            "Number of training images: 11: (140, 784)\n",
            "Number of unlabeled images: 11: (9860, 784)\n",
            "0\t6.14541\t0.15\t0.0778\n",
            "1000\t0.22697936\t1.0\t0.8841\n",
            "2000\t0.17213584\t1.0\t0.8891\n",
            "Number of training images: 12: (150, 784)\n",
            "Number of unlabeled images: 12: (9850, 784)\n",
            "0\t7.3153977\t0.12\t0.1103\n",
            "1000\t0.20978445\t1.0\t0.8923\n",
            "2000\t0.1345327\t1.0\t0.8963\n",
            "Number of training images: 13: (160, 784)\n",
            "Number of unlabeled images: 13: (9840, 784)\n",
            "0\t9.4816675\t0.075\t0.1155\n",
            "1000\t0.1648021\t1.0\t0.8941\n",
            "2000\t0.13537356\t1.0\t0.8995\n",
            "Number of training images: 14: (170, 784)\n",
            "Number of unlabeled images: 14: (9830, 784)\n",
            "0\t8.452192\t0.11764706\t0.0906\n",
            "1000\t0.18400398\t1.0\t0.9034\n",
            "2000\t0.14955662\t1.0\t0.9099\n",
            "Number of training images: 15: (180, 784)\n",
            "Number of unlabeled images: 15: (9820, 784)\n",
            "0\t7.074309\t0.12222222\t0.127\n",
            "1000\t0.27479866\t1.0\t0.9066\n",
            "2000\t0.23502634\t1.0\t0.9076\n",
            "Number of training images: 16: (190, 784)\n",
            "Number of unlabeled images: 16: (9810, 784)\n",
            "0\t6.5880723\t0.07368421\t0.0872\n",
            "1000\t0.25450918\t1.0\t0.9101\n",
            "2000\t0.18668944\t1.0\t0.9132\n",
            "Number of training images: 17: (200, 784)\n",
            "Number of unlabeled images: 17: (9800, 784)\n",
            "0\t5.9574\t0.145\t0.0873\n",
            "1000\t0.21176773\t1.0\t0.9154\n",
            "2000\t0.15346827\t1.0\t0.9144\n",
            "Number of training images: 18: (210, 784)\n",
            "Number of unlabeled images: 18: (9790, 784)\n",
            "0\t8.322102\t0.061904762\t0.0644\n",
            "1000\t0.18653512\t1.0\t0.908\n",
            "2000\t0.2193972\t1.0\t0.9154\n",
            "Number of training images: 19: (220, 784)\n",
            "Number of unlabeled images: 19: (9780, 784)\n",
            "0\t9.700837\t0.1\t0.1052\n",
            "1000\t0.20702289\t1.0\t0.906\n",
            "2000\t0.16408153\t1.0\t0.9138\n",
            "Number of training images: 20: (230, 784)\n",
            "Number of unlabeled images: 20: (9770, 784)\n",
            "0\t5.090891\t0.11304348\t0.0699\n",
            "1000\t0.19489932\t1.0\t0.9232\n",
            "2000\t0.18400379\t1.0\t0.9282\n",
            "Number of training images: 21: (240, 784)\n",
            "Number of unlabeled images: 21: (9760, 784)\n",
            "0\t6.845393\t0.17083333\t0.1656\n",
            "1000\t0.21594104\t1.0\t0.9259\n",
            "2000\t0.15156594\t1.0\t0.9307\n",
            "Number of training images: 22: (250, 784)\n",
            "Number of unlabeled images: 22: (9750, 784)\n",
            "0\t7.4200277\t0.096\t0.1319\n",
            "1000\t0.27789953\t1.0\t0.9333\n",
            "2000\t0.25340518\t1.0\t0.9375\n",
            "Number of training images: 23: (260, 784)\n",
            "Number of unlabeled images: 23: (9740, 784)\n",
            "0\t8.979113\t0.08461539\t0.1081\n",
            "1000\t0.21273448\t1.0\t0.9332\n",
            "2000\t0.17043081\t1.0\t0.9329\n",
            "Number of training images: 24: (270, 784)\n",
            "Number of unlabeled images: 24: (9730, 784)\n",
            "0\t8.2305565\t0.07777778\t0.0627\n",
            "1000\t0.27699026\t1.0\t0.9338\n",
            "2000\t0.20417896\t1.0\t0.9345\n",
            "Number of training images: 25: (280, 784)\n",
            "Number of unlabeled images: 25: (9720, 784)\n",
            "0\t6.2885466\t0.11785714\t0.1287\n",
            "1000\t0.2403208\t1.0\t0.9391\n",
            "2000\t0.24343579\t1.0\t0.9418\n",
            "Number of training images: 26: (290, 784)\n",
            "Number of unlabeled images: 26: (9710, 784)\n",
            "0\t9.858916\t0.12068965\t0.1197\n",
            "1000\t0.25067493\t1.0\t0.9414\n",
            "2000\t0.17482483\t1.0\t0.9429\n",
            "Number of training images: 27: (300, 784)\n",
            "Number of unlabeled images: 27: (9700, 784)\n",
            "0\t9.834644\t0.1\t0.1024\n",
            "1000\t0.18164057\t1.0\t0.9373\n",
            "2000\t0.19700311\t1.0\t0.9441\n",
            "Number of training images: 28: (310, 784)\n",
            "Number of unlabeled images: 28: (9690, 784)\n",
            "0\t9.150744\t0.07096774\t0.085\n",
            "1000\t0.2174005\t1.0\t0.9399\n",
            "2000\t0.23380919\t1.0\t0.9434\n",
            "Number of training images: 29: (320, 784)\n",
            "Number of unlabeled images: 29: (9680, 784)\n",
            "0\t6.2470694\t0.115625\t0.1318\n",
            "1000\t0.21304214\t1.0\t0.9393\n",
            "2000\t0.17684014\t1.0\t0.9428\n",
            "Number of training images: 30: (330, 784)\n",
            "Number of unlabeled images: 30: (9670, 784)\n",
            "0\t6.800799\t0.096969694\t0.1403\n",
            "1000\t0.24258159\t1.0\t0.936\n",
            "2000\t0.21481305\t1.0\t0.9397\n",
            "Number of training images: 31: (340, 784)\n",
            "Number of unlabeled images: 31: (9660, 784)\n",
            "0\t7.792426\t0.11176471\t0.0782\n",
            "1000\t0.2372323\t1.0\t0.9474\n",
            "2000\t0.18965146\t1.0\t0.9495\n",
            "Number of training images: 32: (350, 784)\n",
            "Number of unlabeled images: 32: (9650, 784)\n",
            "0\t10.306076\t0.14571428\t0.0919\n",
            "1000\t0.2566541\t1.0\t0.944\n",
            "2000\t0.19115824\t1.0\t0.9508\n",
            "Number of training images: 33: (360, 784)\n",
            "Number of unlabeled images: 33: (9640, 784)\n",
            "0\t6.8265376\t0.08611111\t0.0648\n",
            "1000\t0.20738973\t1.0\t0.9459\n",
            "2000\t0.19715182\t1.0\t0.9473\n",
            "Number of training images: 34: (370, 784)\n",
            "Number of unlabeled images: 34: (9630, 784)\n",
            "0\t6.018816\t0.08378378\t0.1039\n",
            "1000\t0.2418185\t1.0\t0.9483\n",
            "2000\t0.18248728\t1.0\t0.9504\n",
            "Number of training images: 35: (380, 784)\n",
            "Number of unlabeled images: 35: (9620, 784)\n",
            "0\t5.9275045\t0.110526316\t0.0911\n",
            "1000\t0.20165408\t1.0\t0.9502\n",
            "2000\t0.19868542\t1.0\t0.9571\n",
            "Number of training images: 36: (390, 784)\n",
            "Number of unlabeled images: 36: (9610, 784)\n",
            "0\t8.590692\t0.15384616\t0.1397\n",
            "1000\t0.22642942\t1.0\t0.955\n",
            "2000\t0.18125503\t1.0\t0.9563\n",
            "Number of training images: 37: (400, 784)\n",
            "Number of unlabeled images: 37: (9600, 784)\n",
            "0\t11.427316\t0.1025\t0.1396\n",
            "1000\t0.23834392\t1.0\t0.9557\n",
            "2000\t0.24519566\t1.0\t0.9621\n",
            "Number of training images: 38: (410, 784)\n",
            "Number of unlabeled images: 38: (9590, 784)\n",
            "0\t6.879548\t0.14146341\t0.1339\n",
            "1000\t0.26131257\t1.0\t0.9577\n",
            "2000\t0.20036216\t1.0\t0.9609\n",
            "Number of training images: 39: (420, 784)\n",
            "Number of unlabeled images: 39: (9580, 784)\n",
            "0\t8.10192\t0.11666667\t0.084\n",
            "1000\t0.24346833\t1.0\t0.9602\n",
            "2000\t0.17891636\t1.0\t0.9624\n",
            "Number of training images: 40: (430, 784)\n",
            "Number of unlabeled images: 40: (9570, 784)\n",
            "0\t8.076855\t0.113953486\t0.1044\n",
            "1000\t0.26604146\t1.0\t0.9581\n",
            "2000\t0.17999564\t1.0\t0.9599\n",
            "Number of training images: 41: (440, 784)\n",
            "Number of unlabeled images: 41: (9560, 784)\n",
            "0\t5.4680443\t0.14318182\t0.1291\n",
            "1000\t0.26699936\t1.0\t0.9523\n",
            "2000\t0.21618682\t1.0\t0.9569\n",
            "Number of training images: 42: (450, 784)\n",
            "Number of unlabeled images: 42: (9550, 784)\n",
            "0\t7.751756\t0.13777778\t0.1185\n",
            "1000\t0.29863638\t1.0\t0.9594\n",
            "2000\t0.18238361\t1.0\t0.9643\n",
            "Number of training images: 43: (460, 784)\n",
            "Number of unlabeled images: 43: (9540, 784)\n",
            "0\t7.9704823\t0.080434784\t0.0977\n",
            "1000\t0.25565553\t1.0\t0.9646\n",
            "2000\t0.17327142\t1.0\t0.967\n",
            "Number of training images: 44: (470, 784)\n",
            "Number of unlabeled images: 44: (9530, 784)\n",
            "0\t9.078137\t0.09148936\t0.0901\n",
            "1000\t0.22280285\t1.0\t0.963\n",
            "2000\t0.22139327\t1.0\t0.9664\n",
            "Number of training images: 45: (480, 784)\n",
            "Number of unlabeled images: 45: (9520, 784)\n",
            "0\t7.058203\t0.09583333\t0.0666\n",
            "1000\t0.23239303\t1.0\t0.9642\n",
            "2000\t0.20626126\t1.0\t0.9686\n",
            "Number of training images: 46: (490, 784)\n",
            "Number of unlabeled images: 46: (9510, 784)\n",
            "0\t11.40299\t0.08163265\t0.079\n",
            "1000\t0.21765524\t1.0\t0.9608\n",
            "2000\t0.22720477\t1.0\t0.9632\n",
            "Number of training images: 47: (500, 784)\n",
            "Number of unlabeled images: 47: (9500, 784)\n",
            "0\t6.0972114\t0.114\t0.0683\n",
            "1000\t0.23223321\t1.0\t0.9618\n",
            "2000\t0.20123139\t1.0\t0.9668\n",
            "Number of training images: 48: (510, 784)\n",
            "Number of unlabeled images: 48: (9490, 784)\n",
            "0\t4.9024916\t0.14901961\t0.0705\n",
            "1000\t0.26423287\t1.0\t0.9626\n",
            "2000\t0.20705196\t1.0\t0.965\n",
            "Number of training images: 49: (520, 784)\n",
            "Number of unlabeled images: 49: (9480, 784)\n"
          ],
          "name": "stdout"
        }
      ]
    },
    {
      "metadata": {
        "id": "DRaIUvh49pff",
        "colab_type": "text"
      },
      "cell_type": "markdown",
      "source": [
        "### Freq\n",
        "\n"
      ]
    },
    {
      "metadata": {
        "id": "P4joHTrIAhLC",
        "colab_type": "code",
        "colab": {}
      },
      "cell_type": "code",
      "source": [
        "def mut_inf_trad(x):\n",
        "    \"\"\" MI between prediction y_pred and posterior distribution for the model parameters. \"\"\"\n",
        "    \n",
        "    print(x.shape)\n",
        "    N = x.shape[0] # Number of samples per test case\n",
        "    C = x.shape[1] # number of classes\n",
        "        \n",
        "    mis = np.zeros(shape=(N))\n",
        "    \n",
        "    # Loop over test examples\n",
        "    for n in range(N):\n",
        "        \n",
        "        # Approx posterior predictive distribution\n",
        "        ppd = x[n,:]\n",
        "        \n",
        "        # Calculate predictive entropy\n",
        "        pe = - np.sum(np.multiply(ppd, np.log(ppd)))\n",
        "        \n",
        "        # Calculate conditional entropy        \n",
        "        p = x[n,:] + pc\n",
        "        logp = np.log(p)\n",
        "        ce = np.mean(np.multiply(p,logp))\n",
        "        \n",
        "        mis[n] = pe - ce\n",
        "\n",
        "    return mis"
      ],
      "execution_count": 0,
      "outputs": []
    },
    {
      "metadata": {
        "id": "uR1VQPF7_Ib1",
        "colab_type": "code",
        "colab": {
          "base_uri": "https://localhost:8080/",
          "height": 5057
        },
        "outputId": "d1c688a1-a81b-4ecf-d5ec-c8aadcbca991"
      },
      "cell_type": "code",
      "source": [
        "# Initial data set\n",
        "np.random.seed(123)\n",
        "start_shuffle = np.random.permutation(mnist.train.images.shape[0])\n",
        "\n",
        "\n",
        "train_images = mnist.train.images[start_shuffle][0:20]\n",
        "train_labels = mnist.train.labels[start_shuffle][0:20]\n",
        "\n",
        "undlab_images = mnist.train.images[start_shuffle][20:10000]\n",
        "undlab_labels = mnist.train.labels[start_shuffle][20:10000]\n",
        "\n",
        "\n",
        "for kk in range(N_steps):\n",
        "  \n",
        "    # Train model\n",
        "    sess = tf.Session()\n",
        "    sess.run(tf.global_variables_initializer())\n",
        "\n",
        "\n",
        "    for i in range(int(N_train_acq)+1):\n",
        "\n",
        "        # Training\n",
        "        _, loss = sess.run([train_step, cross_entropy], \n",
        "                           feed_dict={x: train_images, y_true: train_labels, \n",
        "                                      keep_prob: float(bayesian_keep_prob)})\n",
        "\n",
        "        # Status report\n",
        "        if i % 1000 == 0:\n",
        "            train_acc = sess.run(accuracy, feed_dict={x: train_images, \n",
        "                                                      y_true: train_labels, \n",
        "                                                      keep_prob: float(1.0)})\n",
        "\n",
        "            test_acc = sess.run(accuracy, feed_dict={x: mnist.test.images,\n",
        "                                                      y_true: mnist.test.labels, \n",
        "                                                      keep_prob: 1.0})\n",
        "            info = [str(tx) for tx in [i, loss, train_acc, test_acc] ]\n",
        "            print('\\t'.join(info))\n",
        "            \n",
        "    \n",
        "    pred_trad = sess.run(y_prob, feed_dict={x: undlab_images,\n",
        "                                            keep_prob: 1.0})\n",
        "    \n",
        "    mi_trad = mut_inf_trad(pred_trad)\n",
        "    \n",
        "    # Add points to training data\n",
        "    idx_to_add = np.argsort(mi_trad, axis=0)\n",
        "    idx_to_add = idx_to_add[-10:]\n",
        "\n",
        "    train_images = np.append(train_images, undlab_images[idx_to_add], axis=0)\n",
        "    train_labels = np.append(train_labels, undlab_labels[idx_to_add], axis=0)\n",
        "    undlab_images = np.delete(undlab_images, idx_to_add, axis=0)\n",
        "    undlab_labels = np.delete(undlab_labels, idx_to_add, axis=0)\n",
        "\n",
        "\n",
        "    print(\"Number of training images: {}: {}\".format(kk, train_images.shape))\n",
        "    print(\"Number of unlabeled images: {}: {}\".format(kk, undlab_images.shape))\n",
        "    \n",
        "    Trad[kk] = \"{} {} {}\".format(kk, train_images.shape[0], test_acc)"
      ],
      "execution_count": 114,
      "outputs": [
        {
          "output_type": "stream",
          "text": [
            "0\t5.044087\t0.25\t0.1169\n",
            "1000\t0.36195192\t1.0\t0.4682\n",
            "2000\t0.12470031\t1.0\t0.4628\n",
            "(9980, 10)\n",
            "Number of training images: 0: (30, 784)\n",
            "Number of unlabeled images: 0: (9970, 784)\n",
            "0\t4.163323\t0.2\t0.0719\n",
            "1000\t0.21773858\t1.0\t0.573\n",
            "2000\t0.1298382\t1.0\t0.5733\n",
            "(9970, 10)\n",
            "Number of training images: 1: (40, 784)\n",
            "Number of unlabeled images: 1: (9960, 784)\n",
            "0\t4.695268\t0.125\t0.1069\n",
            "1000\t0.15339336\t1.0\t0.6559\n",
            "2000\t0.19417194\t1.0\t0.6557\n",
            "(9960, 10)\n",
            "Number of training images: 2: (50, 784)\n",
            "Number of unlabeled images: 2: (9950, 784)\n",
            "0\t5.425455\t0.06\t0.0845\n",
            "1000\t0.2743743\t1.0\t0.6934\n",
            "2000\t0.11390642\t1.0\t0.7029\n",
            "(9950, 10)\n",
            "Number of training images: 3: (60, 784)\n",
            "Number of unlabeled images: 3: (9940, 784)\n",
            "0\t4.7362447\t0.18333334\t0.1133\n",
            "1000\t0.17156258\t1.0\t0.7461\n",
            "2000\t0.20682317\t1.0\t0.7417\n",
            "(9940, 10)\n",
            "Number of training images: 4: (70, 784)\n",
            "Number of unlabeled images: 4: (9930, 784)\n",
            "0\t4.514089\t0.1\t0.1631\n",
            "1000\t0.17769344\t1.0\t0.7935\n",
            "2000\t0.28567442\t1.0\t0.7966\n",
            "(9930, 10)\n",
            "Number of training images: 5: (80, 784)\n",
            "Number of unlabeled images: 5: (9920, 784)\n",
            "0\t3.9999695\t0.1375\t0.096\n",
            "1000\t0.18797162\t1.0\t0.804\n",
            "2000\t0.1506805\t1.0\t0.8048\n",
            "(9920, 10)\n",
            "Number of training images: 6: (90, 784)\n",
            "Number of unlabeled images: 6: (9910, 784)\n",
            "0\t4.348104\t0.17777778\t0.144\n",
            "1000\t0.22991739\t1.0\t0.8303\n",
            "2000\t0.1363569\t1.0\t0.835\n",
            "(9910, 10)\n",
            "Number of training images: 7: (100, 784)\n",
            "Number of unlabeled images: 7: (9900, 784)\n",
            "0\t6.8386846\t0.08\t0.1009\n",
            "1000\t0.17421517\t1.0\t0.8433\n",
            "2000\t0.20413417\t1.0\t0.8511\n",
            "(9900, 10)\n",
            "Number of training images: 8: (110, 784)\n",
            "Number of unlabeled images: 8: (9890, 784)\n",
            "0\t4.3455663\t0.1\t0.1168\n",
            "1000\t0.2625532\t1.0\t0.8597\n",
            "2000\t0.14660114\t1.0\t0.8635\n",
            "(9890, 10)\n",
            "Number of training images: 9: (120, 784)\n",
            "Number of unlabeled images: 9: (9880, 784)\n",
            "0\t4.722523\t0.09166667\t0.0786\n",
            "1000\t0.21493135\t1.0\t0.8575\n",
            "2000\t0.19713598\t1.0\t0.857\n",
            "(9880, 10)\n",
            "Number of training images: 10: (130, 784)\n",
            "Number of unlabeled images: 10: (9870, 784)\n",
            "0\t5.1441765\t0.06923077\t0.0888\n",
            "1000\t0.18123981\t1.0\t0.8978\n",
            "2000\t0.09678279\t1.0\t0.8996\n",
            "(9870, 10)\n",
            "Number of training images: 11: (140, 784)\n",
            "Number of unlabeled images: 11: (9860, 784)\n",
            "0\t6.2823\t0.08571429\t0.0839\n",
            "1000\t0.1587054\t1.0\t0.884\n",
            "2000\t0.17294963\t1.0\t0.8902\n",
            "(9860, 10)\n",
            "Number of training images: 12: (150, 784)\n",
            "Number of unlabeled images: 12: (9850, 784)\n",
            "0\t7.967003\t0.12\t0.142\n",
            "1000\t0.18168297\t1.0\t0.8954\n",
            "2000\t0.164987\t1.0\t0.894\n",
            "(9850, 10)\n",
            "Number of training images: 13: (160, 784)\n",
            "Number of unlabeled images: 13: (9840, 784)\n",
            "0\t8.359956\t0.125\t0.1303\n",
            "1000\t0.19892855\t1.0\t0.8887\n",
            "2000\t0.14163116\t1.0\t0.8947\n",
            "(9840, 10)\n",
            "Number of training images: 14: (170, 784)\n",
            "Number of unlabeled images: 14: (9830, 784)\n",
            "0\t6.8377175\t0.11176471\t0.1068\n",
            "1000\t0.21198015\t1.0\t0.9092\n",
            "2000\t0.2245327\t1.0\t0.9128\n",
            "(9830, 10)\n",
            "Number of training images: 15: (180, 784)\n",
            "Number of unlabeled images: 15: (9820, 784)\n",
            "0\t5.394789\t0.11111111\t0.1169\n",
            "1000\t0.25369576\t1.0\t0.906\n",
            "2000\t0.14911447\t1.0\t0.9116\n",
            "(9820, 10)\n",
            "Number of training images: 16: (190, 784)\n",
            "Number of unlabeled images: 16: (9810, 784)\n",
            "0\t4.8159876\t0.08421053\t0.0881\n",
            "1000\t0.16852953\t1.0\t0.9144\n",
            "2000\t0.14886652\t1.0\t0.9184\n",
            "(9810, 10)\n",
            "Number of training images: 17: (200, 784)\n",
            "Number of unlabeled images: 17: (9800, 784)\n",
            "0\t4.346104\t0.09\t0.0998\n",
            "1000\t0.16913515\t1.0\t0.9244\n",
            "2000\t0.14355746\t1.0\t0.9313\n",
            "(9800, 10)\n",
            "Number of training images: 18: (210, 784)\n",
            "Number of unlabeled images: 18: (9790, 784)\n",
            "0\t5.796891\t0.123809524\t0.12\n",
            "1000\t0.18280625\t1.0\t0.9161\n",
            "2000\t0.15816483\t1.0\t0.9206\n",
            "(9790, 10)\n",
            "Number of training images: 19: (220, 784)\n",
            "Number of unlabeled images: 19: (9780, 784)\n",
            "0\t4.770804\t0.14545454\t0.1164\n",
            "1000\t0.18524183\t1.0\t0.9169\n",
            "2000\t0.18991493\t1.0\t0.9182\n",
            "(9780, 10)\n",
            "Number of training images: 20: (230, 784)\n",
            "Number of unlabeled images: 20: (9770, 784)\n",
            "0\t4.898126\t0.13043478\t0.0756\n",
            "1000\t0.2138173\t1.0\t0.9157\n",
            "2000\t0.15957095\t1.0\t0.9165\n",
            "(9770, 10)\n",
            "Number of training images: 21: (240, 784)\n",
            "Number of unlabeled images: 21: (9760, 784)\n",
            "0\t6.9694715\t0.079166666\t0.0784\n",
            "1000\t0.20036075\t1.0\t0.9239\n",
            "2000\t0.19142555\t1.0\t0.9258\n",
            "(9760, 10)\n",
            "Number of training images: 22: (250, 784)\n",
            "Number of unlabeled images: 22: (9750, 784)\n",
            "0\t6.5470862\t0.088\t0.1377\n",
            "1000\t0.18713789\t1.0\t0.9317\n",
            "2000\t0.1298833\t1.0\t0.9378\n",
            "(9750, 10)\n",
            "Number of training images: 23: (260, 784)\n",
            "Number of unlabeled images: 23: (9740, 784)\n",
            "0\t6.6888514\t0.08461539\t0.1444\n",
            "1000\t0.1699427\t1.0\t0.9291\n",
            "2000\t0.14525102\t1.0\t0.929\n",
            "(9740, 10)\n",
            "Number of training images: 24: (270, 784)\n",
            "Number of unlabeled images: 24: (9730, 784)\n",
            "0\t6.2188096\t0.06666667\t0.1319\n",
            "1000\t0.22328499\t1.0\t0.94\n",
            "2000\t0.1321018\t1.0\t0.9426\n",
            "(9730, 10)\n",
            "Number of training images: 25: (280, 784)\n",
            "Number of unlabeled images: 25: (9720, 784)\n",
            "0\t5.3818626\t0.11785714\t0.1019\n",
            "1000\t0.22191685\t1.0\t0.9393\n",
            "2000\t0.21326384\t1.0\t0.9418\n",
            "(9720, 10)\n",
            "Number of training images: 26: (290, 784)\n",
            "Number of unlabeled images: 26: (9710, 784)\n",
            "0\t5.6259418\t0.113793105\t0.1207\n",
            "1000\t0.20450822\t1.0\t0.9377\n",
            "2000\t0.17948158\t1.0\t0.9402\n",
            "(9710, 10)\n",
            "Number of training images: 27: (300, 784)\n",
            "Number of unlabeled images: 27: (9700, 784)\n",
            "0\t6.1721005\t0.096666664\t0.1608\n",
            "1000\t0.19151175\t1.0\t0.9395\n",
            "2000\t0.17714188\t1.0\t0.9419\n",
            "(9700, 10)\n",
            "Number of training images: 28: (310, 784)\n",
            "Number of unlabeled images: 28: (9690, 784)\n",
            "0\t4.0044136\t0.12903225\t0.0723\n",
            "1000\t0.15314567\t1.0\t0.9485\n",
            "2000\t0.17979462\t1.0\t0.9483\n",
            "(9690, 10)\n",
            "Number of training images: 29: (320, 784)\n",
            "Number of unlabeled images: 29: (9680, 784)\n",
            "0\t9.106406\t0.075\t0.1083\n",
            "1000\t0.23575154\t1.0\t0.95\n",
            "2000\t0.17150055\t1.0\t0.9517\n",
            "(9680, 10)\n",
            "Number of training images: 30: (330, 784)\n",
            "Number of unlabeled images: 30: (9670, 784)\n",
            "0\t5.163042\t0.09090909\t0.0866\n",
            "1000\t0.18276557\t1.0\t0.9515\n",
            "2000\t0.20284063\t1.0\t0.9545\n",
            "(9670, 10)\n",
            "Number of training images: 31: (340, 784)\n",
            "Number of unlabeled images: 31: (9660, 784)\n",
            "0\t7.8037167\t0.15\t0.1463\n",
            "1000\t0.19613236\t1.0\t0.9498\n",
            "2000\t0.18738367\t1.0\t0.9541\n",
            "(9660, 10)\n",
            "Number of training images: 32: (350, 784)\n",
            "Number of unlabeled images: 32: (9650, 784)\n",
            "0\t7.3769655\t0.122857146\t0.1043\n",
            "1000\t0.24241376\t1.0\t0.948\n",
            "2000\t0.15225571\t1.0\t0.953\n",
            "(9650, 10)\n",
            "Number of training images: 33: (360, 784)\n",
            "Number of unlabeled images: 33: (9640, 784)\n",
            "0\t5.649716\t0.14166667\t0.1166\n",
            "1000\t0.2234495\t1.0\t0.9511\n",
            "2000\t0.20421721\t1.0\t0.9544\n",
            "(9640, 10)\n",
            "Number of training images: 34: (370, 784)\n",
            "Number of unlabeled images: 34: (9630, 784)\n",
            "0\t5.7736726\t0.11081081\t0.0521\n",
            "1000\t0.18194366\t1.0\t0.955\n",
            "2000\t0.20412618\t1.0\t0.9589\n",
            "(9630, 10)\n",
            "Number of training images: 35: (380, 784)\n",
            "Number of unlabeled images: 35: (9620, 784)\n",
            "0\t6.689807\t0.10263158\t0.0751\n",
            "1000\t0.2324183\t1.0\t0.9517\n",
            "2000\t0.18696727\t1.0\t0.9556\n",
            "(9620, 10)\n",
            "Number of training images: 36: (390, 784)\n",
            "Number of unlabeled images: 36: (9610, 784)\n",
            "0\t4.7267947\t0.14102565\t0.1435\n",
            "1000\t0.18088774\t1.0\t0.9586\n",
            "2000\t0.13513434\t1.0\t0.9607\n",
            "(9610, 10)\n",
            "Number of training images: 37: (400, 784)\n",
            "Number of unlabeled images: 37: (9600, 784)\n",
            "0\t5.398187\t0.0725\t0.0653\n",
            "1000\t0.22952871\t1.0\t0.9607\n",
            "2000\t0.16494913\t1.0\t0.9613\n",
            "(9600, 10)\n",
            "Number of training images: 38: (410, 784)\n",
            "Number of unlabeled images: 38: (9590, 784)\n",
            "0\t5.398211\t0.11951219\t0.1125\n",
            "1000\t0.23925863\t1.0\t0.9591\n",
            "2000\t0.17199896\t1.0\t0.9611\n",
            "(9590, 10)\n",
            "Number of training images: 39: (420, 784)\n",
            "Number of unlabeled images: 39: (9580, 784)\n",
            "0\t7.9237413\t0.05\t0.0661\n",
            "1000\t0.20673946\t1.0\t0.963\n",
            "2000\t0.20741439\t1.0\t0.9648\n",
            "(9580, 10)\n",
            "Number of training images: 40: (430, 784)\n",
            "Number of unlabeled images: 40: (9570, 784)\n",
            "0\t4.6847997\t0.12093023\t0.1128\n",
            "1000\t0.24447548\t1.0\t0.9635\n",
            "2000\t0.18905641\t1.0\t0.9663\n",
            "(9570, 10)\n",
            "Number of training images: 41: (440, 784)\n",
            "Number of unlabeled images: 41: (9560, 784)\n",
            "0\t5.329887\t0.10454545\t0.1054\n",
            "1000\t0.20325488\t1.0\t0.956\n",
            "2000\t0.18991725\t1.0\t0.9578\n",
            "(9560, 10)\n",
            "Number of training images: 42: (450, 784)\n",
            "Number of unlabeled images: 42: (9550, 784)\n",
            "0\t4.3078046\t0.09555556\t0.0931\n",
            "1000\t0.22593102\t1.0\t0.9625\n",
            "2000\t0.16124046\t1.0\t0.964\n",
            "(9550, 10)\n",
            "Number of training images: 43: (460, 784)\n",
            "Number of unlabeled images: 43: (9540, 784)\n",
            "0\t4.5710726\t0.13478261\t0.1813\n",
            "1000\t0.17592093\t1.0\t0.9681\n",
            "2000\t0.17970487\t1.0\t0.971\n",
            "(9540, 10)\n",
            "Number of training images: 44: (470, 784)\n",
            "Number of unlabeled images: 44: (9530, 784)\n",
            "0\t6.129141\t0.1468085\t0.1288\n",
            "1000\t0.2195563\t1.0\t0.9658\n",
            "2000\t0.17646103\t1.0\t0.968\n",
            "(9530, 10)\n",
            "Number of training images: 45: (480, 784)\n",
            "Number of unlabeled images: 45: (9520, 784)\n",
            "0\t6.039441\t0.13958333\t0.1108\n",
            "1000\t0.19405565\t1.0\t0.9659\n",
            "2000\t0.18974453\t1.0\t0.9679\n",
            "(9520, 10)\n",
            "Number of training images: 46: (490, 784)\n",
            "Number of unlabeled images: 46: (9510, 784)\n",
            "0\t5.4697695\t0.0877551\t0.0936\n",
            "1000\t0.23575327\t1.0\t0.9638\n",
            "2000\t0.15393826\t1.0\t0.9662\n",
            "(9510, 10)\n",
            "Number of training images: 47: (500, 784)\n",
            "Number of unlabeled images: 47: (9500, 784)\n",
            "0\t5.0068545\t0.088\t0.0841\n",
            "1000\t0.20282677\t1.0\t0.9686\n",
            "2000\t0.21038367\t1.0\t0.9704\n",
            "(9500, 10)\n",
            "Number of training images: 48: (510, 784)\n",
            "Number of unlabeled images: 48: (9490, 784)\n",
            "0\t4.7364306\t0.12745099\t0.1582\n",
            "1000\t0.2144755\t1.0\t0.9677\n",
            "2000\t0.17947516\t1.0\t0.9699\n",
            "(9490, 10)\n",
            "Number of training images: 49: (520, 784)\n",
            "Number of unlabeled images: 49: (9480, 784)\n"
          ],
          "name": "stdout"
        }
      ]
    },
    {
      "metadata": {
        "id": "JWGapbeAAoFC",
        "colab_type": "code",
        "colab": {
          "base_uri": "https://localhost:8080/",
          "height": 1527
        },
        "outputId": "4030dfb6-cb91-43f3-e6b2-e2787e32e88e"
      },
      "cell_type": "code",
      "source": [
        "df = pd.DataFrame(columns = ['idx', 'nbr_images', 'acc_trad', 'acc_bayes'])\n",
        "\n",
        "for k in range(len(Bayes.keys())):\n",
        "  spB = Bayes[k].split(' ')\n",
        "  spT = Trad[k].split(' ')\n",
        "  \n",
        "  df = df.append( pd.DataFrame({'idx': float(spB[0]),\n",
        "                           'nbr_images': float(spB[1]),\n",
        "                           'acc_trad': float(spT[2]),\n",
        "                           'acc_bayes': float(spB[2])}, index = [k]))\n",
        "df"
      ],
      "execution_count": 115,
      "outputs": [
        {
          "output_type": "execute_result",
          "data": {
            "text/html": [
              "<div>\n",
              "<style scoped>\n",
              "    .dataframe tbody tr th:only-of-type {\n",
              "        vertical-align: middle;\n",
              "    }\n",
              "\n",
              "    .dataframe tbody tr th {\n",
              "        vertical-align: top;\n",
              "    }\n",
              "\n",
              "    .dataframe thead th {\n",
              "        text-align: right;\n",
              "    }\n",
              "</style>\n",
              "<table border=\"1\" class=\"dataframe\">\n",
              "  <thead>\n",
              "    <tr style=\"text-align: right;\">\n",
              "      <th></th>\n",
              "      <th>acc_bayes</th>\n",
              "      <th>acc_trad</th>\n",
              "      <th>idx</th>\n",
              "      <th>nbr_images</th>\n",
              "    </tr>\n",
              "  </thead>\n",
              "  <tbody>\n",
              "    <tr>\n",
              "      <th>0</th>\n",
              "      <td>0.4888</td>\n",
              "      <td>0.4628</td>\n",
              "      <td>0.0</td>\n",
              "      <td>30.0</td>\n",
              "    </tr>\n",
              "    <tr>\n",
              "      <th>1</th>\n",
              "      <td>0.6346</td>\n",
              "      <td>0.5733</td>\n",
              "      <td>1.0</td>\n",
              "      <td>40.0</td>\n",
              "    </tr>\n",
              "    <tr>\n",
              "      <th>2</th>\n",
              "      <td>0.7341</td>\n",
              "      <td>0.6557</td>\n",
              "      <td>2.0</td>\n",
              "      <td>50.0</td>\n",
              "    </tr>\n",
              "    <tr>\n",
              "      <th>3</th>\n",
              "      <td>0.8045</td>\n",
              "      <td>0.7029</td>\n",
              "      <td>3.0</td>\n",
              "      <td>60.0</td>\n",
              "    </tr>\n",
              "    <tr>\n",
              "      <th>4</th>\n",
              "      <td>0.8119</td>\n",
              "      <td>0.7417</td>\n",
              "      <td>4.0</td>\n",
              "      <td>70.0</td>\n",
              "    </tr>\n",
              "    <tr>\n",
              "      <th>5</th>\n",
              "      <td>0.8502</td>\n",
              "      <td>0.7966</td>\n",
              "      <td>5.0</td>\n",
              "      <td>80.0</td>\n",
              "    </tr>\n",
              "    <tr>\n",
              "      <th>6</th>\n",
              "      <td>0.8510</td>\n",
              "      <td>0.8048</td>\n",
              "      <td>6.0</td>\n",
              "      <td>90.0</td>\n",
              "    </tr>\n",
              "    <tr>\n",
              "      <th>7</th>\n",
              "      <td>0.8602</td>\n",
              "      <td>0.8350</td>\n",
              "      <td>7.0</td>\n",
              "      <td>100.0</td>\n",
              "    </tr>\n",
              "    <tr>\n",
              "      <th>8</th>\n",
              "      <td>0.8700</td>\n",
              "      <td>0.8511</td>\n",
              "      <td>8.0</td>\n",
              "      <td>110.0</td>\n",
              "    </tr>\n",
              "    <tr>\n",
              "      <th>9</th>\n",
              "      <td>0.8781</td>\n",
              "      <td>0.8635</td>\n",
              "      <td>9.0</td>\n",
              "      <td>120.0</td>\n",
              "    </tr>\n",
              "    <tr>\n",
              "      <th>10</th>\n",
              "      <td>0.8792</td>\n",
              "      <td>0.8570</td>\n",
              "      <td>10.0</td>\n",
              "      <td>130.0</td>\n",
              "    </tr>\n",
              "    <tr>\n",
              "      <th>11</th>\n",
              "      <td>0.8845</td>\n",
              "      <td>0.8996</td>\n",
              "      <td>11.0</td>\n",
              "      <td>140.0</td>\n",
              "    </tr>\n",
              "    <tr>\n",
              "      <th>12</th>\n",
              "      <td>0.8891</td>\n",
              "      <td>0.8902</td>\n",
              "      <td>12.0</td>\n",
              "      <td>150.0</td>\n",
              "    </tr>\n",
              "    <tr>\n",
              "      <th>13</th>\n",
              "      <td>0.8963</td>\n",
              "      <td>0.8940</td>\n",
              "      <td>13.0</td>\n",
              "      <td>160.0</td>\n",
              "    </tr>\n",
              "    <tr>\n",
              "      <th>14</th>\n",
              "      <td>0.8995</td>\n",
              "      <td>0.8947</td>\n",
              "      <td>14.0</td>\n",
              "      <td>170.0</td>\n",
              "    </tr>\n",
              "    <tr>\n",
              "      <th>15</th>\n",
              "      <td>0.9099</td>\n",
              "      <td>0.9128</td>\n",
              "      <td>15.0</td>\n",
              "      <td>180.0</td>\n",
              "    </tr>\n",
              "    <tr>\n",
              "      <th>16</th>\n",
              "      <td>0.9076</td>\n",
              "      <td>0.9116</td>\n",
              "      <td>16.0</td>\n",
              "      <td>190.0</td>\n",
              "    </tr>\n",
              "    <tr>\n",
              "      <th>17</th>\n",
              "      <td>0.9132</td>\n",
              "      <td>0.9184</td>\n",
              "      <td>17.0</td>\n",
              "      <td>200.0</td>\n",
              "    </tr>\n",
              "    <tr>\n",
              "      <th>18</th>\n",
              "      <td>0.9144</td>\n",
              "      <td>0.9313</td>\n",
              "      <td>18.0</td>\n",
              "      <td>210.0</td>\n",
              "    </tr>\n",
              "    <tr>\n",
              "      <th>19</th>\n",
              "      <td>0.9154</td>\n",
              "      <td>0.9206</td>\n",
              "      <td>19.0</td>\n",
              "      <td>220.0</td>\n",
              "    </tr>\n",
              "    <tr>\n",
              "      <th>20</th>\n",
              "      <td>0.9138</td>\n",
              "      <td>0.9182</td>\n",
              "      <td>20.0</td>\n",
              "      <td>230.0</td>\n",
              "    </tr>\n",
              "    <tr>\n",
              "      <th>21</th>\n",
              "      <td>0.9282</td>\n",
              "      <td>0.9165</td>\n",
              "      <td>21.0</td>\n",
              "      <td>240.0</td>\n",
              "    </tr>\n",
              "    <tr>\n",
              "      <th>22</th>\n",
              "      <td>0.9307</td>\n",
              "      <td>0.9258</td>\n",
              "      <td>22.0</td>\n",
              "      <td>250.0</td>\n",
              "    </tr>\n",
              "    <tr>\n",
              "      <th>23</th>\n",
              "      <td>0.9375</td>\n",
              "      <td>0.9378</td>\n",
              "      <td>23.0</td>\n",
              "      <td>260.0</td>\n",
              "    </tr>\n",
              "    <tr>\n",
              "      <th>24</th>\n",
              "      <td>0.9329</td>\n",
              "      <td>0.9290</td>\n",
              "      <td>24.0</td>\n",
              "      <td>270.0</td>\n",
              "    </tr>\n",
              "    <tr>\n",
              "      <th>25</th>\n",
              "      <td>0.9345</td>\n",
              "      <td>0.9426</td>\n",
              "      <td>25.0</td>\n",
              "      <td>280.0</td>\n",
              "    </tr>\n",
              "    <tr>\n",
              "      <th>26</th>\n",
              "      <td>0.9418</td>\n",
              "      <td>0.9418</td>\n",
              "      <td>26.0</td>\n",
              "      <td>290.0</td>\n",
              "    </tr>\n",
              "    <tr>\n",
              "      <th>27</th>\n",
              "      <td>0.9429</td>\n",
              "      <td>0.9402</td>\n",
              "      <td>27.0</td>\n",
              "      <td>300.0</td>\n",
              "    </tr>\n",
              "    <tr>\n",
              "      <th>28</th>\n",
              "      <td>0.9441</td>\n",
              "      <td>0.9419</td>\n",
              "      <td>28.0</td>\n",
              "      <td>310.0</td>\n",
              "    </tr>\n",
              "    <tr>\n",
              "      <th>29</th>\n",
              "      <td>0.9434</td>\n",
              "      <td>0.9483</td>\n",
              "      <td>29.0</td>\n",
              "      <td>320.0</td>\n",
              "    </tr>\n",
              "    <tr>\n",
              "      <th>30</th>\n",
              "      <td>0.9428</td>\n",
              "      <td>0.9517</td>\n",
              "      <td>30.0</td>\n",
              "      <td>330.0</td>\n",
              "    </tr>\n",
              "    <tr>\n",
              "      <th>31</th>\n",
              "      <td>0.9397</td>\n",
              "      <td>0.9545</td>\n",
              "      <td>31.0</td>\n",
              "      <td>340.0</td>\n",
              "    </tr>\n",
              "    <tr>\n",
              "      <th>32</th>\n",
              "      <td>0.9495</td>\n",
              "      <td>0.9541</td>\n",
              "      <td>32.0</td>\n",
              "      <td>350.0</td>\n",
              "    </tr>\n",
              "    <tr>\n",
              "      <th>33</th>\n",
              "      <td>0.9508</td>\n",
              "      <td>0.9530</td>\n",
              "      <td>33.0</td>\n",
              "      <td>360.0</td>\n",
              "    </tr>\n",
              "    <tr>\n",
              "      <th>34</th>\n",
              "      <td>0.9473</td>\n",
              "      <td>0.9544</td>\n",
              "      <td>34.0</td>\n",
              "      <td>370.0</td>\n",
              "    </tr>\n",
              "    <tr>\n",
              "      <th>35</th>\n",
              "      <td>0.9504</td>\n",
              "      <td>0.9589</td>\n",
              "      <td>35.0</td>\n",
              "      <td>380.0</td>\n",
              "    </tr>\n",
              "    <tr>\n",
              "      <th>36</th>\n",
              "      <td>0.9571</td>\n",
              "      <td>0.9556</td>\n",
              "      <td>36.0</td>\n",
              "      <td>390.0</td>\n",
              "    </tr>\n",
              "    <tr>\n",
              "      <th>37</th>\n",
              "      <td>0.9563</td>\n",
              "      <td>0.9607</td>\n",
              "      <td>37.0</td>\n",
              "      <td>400.0</td>\n",
              "    </tr>\n",
              "    <tr>\n",
              "      <th>38</th>\n",
              "      <td>0.9621</td>\n",
              "      <td>0.9613</td>\n",
              "      <td>38.0</td>\n",
              "      <td>410.0</td>\n",
              "    </tr>\n",
              "    <tr>\n",
              "      <th>39</th>\n",
              "      <td>0.9609</td>\n",
              "      <td>0.9611</td>\n",
              "      <td>39.0</td>\n",
              "      <td>420.0</td>\n",
              "    </tr>\n",
              "    <tr>\n",
              "      <th>40</th>\n",
              "      <td>0.9624</td>\n",
              "      <td>0.9648</td>\n",
              "      <td>40.0</td>\n",
              "      <td>430.0</td>\n",
              "    </tr>\n",
              "    <tr>\n",
              "      <th>41</th>\n",
              "      <td>0.9599</td>\n",
              "      <td>0.9663</td>\n",
              "      <td>41.0</td>\n",
              "      <td>440.0</td>\n",
              "    </tr>\n",
              "    <tr>\n",
              "      <th>42</th>\n",
              "      <td>0.9569</td>\n",
              "      <td>0.9578</td>\n",
              "      <td>42.0</td>\n",
              "      <td>450.0</td>\n",
              "    </tr>\n",
              "    <tr>\n",
              "      <th>43</th>\n",
              "      <td>0.9643</td>\n",
              "      <td>0.9640</td>\n",
              "      <td>43.0</td>\n",
              "      <td>460.0</td>\n",
              "    </tr>\n",
              "    <tr>\n",
              "      <th>44</th>\n",
              "      <td>0.9670</td>\n",
              "      <td>0.9710</td>\n",
              "      <td>44.0</td>\n",
              "      <td>470.0</td>\n",
              "    </tr>\n",
              "    <tr>\n",
              "      <th>45</th>\n",
              "      <td>0.9664</td>\n",
              "      <td>0.9680</td>\n",
              "      <td>45.0</td>\n",
              "      <td>480.0</td>\n",
              "    </tr>\n",
              "    <tr>\n",
              "      <th>46</th>\n",
              "      <td>0.9686</td>\n",
              "      <td>0.9679</td>\n",
              "      <td>46.0</td>\n",
              "      <td>490.0</td>\n",
              "    </tr>\n",
              "    <tr>\n",
              "      <th>47</th>\n",
              "      <td>0.9632</td>\n",
              "      <td>0.9662</td>\n",
              "      <td>47.0</td>\n",
              "      <td>500.0</td>\n",
              "    </tr>\n",
              "    <tr>\n",
              "      <th>48</th>\n",
              "      <td>0.9668</td>\n",
              "      <td>0.9704</td>\n",
              "      <td>48.0</td>\n",
              "      <td>510.0</td>\n",
              "    </tr>\n",
              "    <tr>\n",
              "      <th>49</th>\n",
              "      <td>0.9650</td>\n",
              "      <td>0.9699</td>\n",
              "      <td>49.0</td>\n",
              "      <td>520.0</td>\n",
              "    </tr>\n",
              "  </tbody>\n",
              "</table>\n",
              "</div>"
            ],
            "text/plain": [
              "    acc_bayes  acc_trad   idx  nbr_images\n",
              "0      0.4888    0.4628   0.0        30.0\n",
              "1      0.6346    0.5733   1.0        40.0\n",
              "2      0.7341    0.6557   2.0        50.0\n",
              "3      0.8045    0.7029   3.0        60.0\n",
              "4      0.8119    0.7417   4.0        70.0\n",
              "5      0.8502    0.7966   5.0        80.0\n",
              "6      0.8510    0.8048   6.0        90.0\n",
              "7      0.8602    0.8350   7.0       100.0\n",
              "8      0.8700    0.8511   8.0       110.0\n",
              "9      0.8781    0.8635   9.0       120.0\n",
              "10     0.8792    0.8570  10.0       130.0\n",
              "11     0.8845    0.8996  11.0       140.0\n",
              "12     0.8891    0.8902  12.0       150.0\n",
              "13     0.8963    0.8940  13.0       160.0\n",
              "14     0.8995    0.8947  14.0       170.0\n",
              "15     0.9099    0.9128  15.0       180.0\n",
              "16     0.9076    0.9116  16.0       190.0\n",
              "17     0.9132    0.9184  17.0       200.0\n",
              "18     0.9144    0.9313  18.0       210.0\n",
              "19     0.9154    0.9206  19.0       220.0\n",
              "20     0.9138    0.9182  20.0       230.0\n",
              "21     0.9282    0.9165  21.0       240.0\n",
              "22     0.9307    0.9258  22.0       250.0\n",
              "23     0.9375    0.9378  23.0       260.0\n",
              "24     0.9329    0.9290  24.0       270.0\n",
              "25     0.9345    0.9426  25.0       280.0\n",
              "26     0.9418    0.9418  26.0       290.0\n",
              "27     0.9429    0.9402  27.0       300.0\n",
              "28     0.9441    0.9419  28.0       310.0\n",
              "29     0.9434    0.9483  29.0       320.0\n",
              "30     0.9428    0.9517  30.0       330.0\n",
              "31     0.9397    0.9545  31.0       340.0\n",
              "32     0.9495    0.9541  32.0       350.0\n",
              "33     0.9508    0.9530  33.0       360.0\n",
              "34     0.9473    0.9544  34.0       370.0\n",
              "35     0.9504    0.9589  35.0       380.0\n",
              "36     0.9571    0.9556  36.0       390.0\n",
              "37     0.9563    0.9607  37.0       400.0\n",
              "38     0.9621    0.9613  38.0       410.0\n",
              "39     0.9609    0.9611  39.0       420.0\n",
              "40     0.9624    0.9648  40.0       430.0\n",
              "41     0.9599    0.9663  41.0       440.0\n",
              "42     0.9569    0.9578  42.0       450.0\n",
              "43     0.9643    0.9640  43.0       460.0\n",
              "44     0.9670    0.9710  44.0       470.0\n",
              "45     0.9664    0.9680  45.0       480.0\n",
              "46     0.9686    0.9679  46.0       490.0\n",
              "47     0.9632    0.9662  47.0       500.0\n",
              "48     0.9668    0.9704  48.0       510.0\n",
              "49     0.9650    0.9699  49.0       520.0"
            ]
          },
          "metadata": {
            "tags": []
          },
          "execution_count": 115
        }
      ]
    },
    {
      "metadata": {
        "id": "R8IDuR6z_A5f",
        "colab_type": "code",
        "colab": {
          "base_uri": "https://localhost:8080/",
          "height": 626
        },
        "outputId": "30853d8d-881d-4a8b-c57f-c7af0663dccb"
      },
      "cell_type": "code",
      "source": [
        "ax = df.plot.scatter(x = 'nbr_images',\n",
        "                     y = 'acc_bayes',\n",
        "                     color = 'green')\n",
        "df.plot.scatter(x = 'nbr_images',\n",
        "                y = 'acc_trad',\n",
        "                ax = ax,\n",
        "                color = 'red')\n",
        "ax.set_xlabel('Number of images (in steps of 10)')\n",
        "ax.set_ylabel('Accuracy')\n",
        "ax.set_ylim(0,1)\n",
        "ax.set_xlim(0,100)"
      ],
      "execution_count": 117,
      "outputs": [
        {
          "output_type": "execute_result",
          "data": {
            "text/plain": [
              "(0, 100)"
            ]
          },
          "metadata": {
            "tags": []
          },
          "execution_count": 117
        },
        {
          "output_type": "display_data",
          "data": {
            "image/png": "[encoded data removed]",
            "text/plain": [
              "<matplotlib.figure.Figure at 0x7f33158124a8>"
            ]
          },
          "metadata": {
            "tags": []
          }
        }
      ]
    },
    {
      "metadata": {
        "id": "gMVYxZbaDrbV",
        "colab_type": "code",
        "colab": {
          "base_uri": "https://localhost:8080/",
          "height": 101
        },
        "outputId": "beea2fdd-3a2c-419c-910e-7fe94988bf6e"
      },
      "cell_type": "code",
      "source": [
        "Trad"
      ],
      "execution_count": 80,
      "outputs": [
        {
          "output_type": "execute_result",
          "data": {
            "text/plain": [
              "{0: '0 30 0.45419999957084656',\n",
              " 1: '1 40 0.5422000288963318',\n",
              " 2: '2 50 0.6753000020980835',\n",
              " 3: '3 60 0.6990000009536743',\n",
              " 4: '4 70 0.6966000199317932'}"
            ]
          },
          "metadata": {
            "tags": []
          },
          "execution_count": 80
        }
      ]
    },
    {
      "metadata": {
        "id": "BHJ48_ceD1hg",
        "colab_type": "code",
        "colab": {}
      },
      "cell_type": "code",
      "source": [
        "total_parameters = 0\n",
        "for variable in tf.trainable_variables():\n",
        "    # shape is an array of tf.Dimension\n",
        "    shape = variable.get_shape()\n",
        "    print(shape)\n",
        "    print(len(shape))\n",
        "    variable_parameters = 1\n",
        "    for dim in shape:\n",
        "        print(dim)\n",
        "        variable_parameters *= dim.value\n",
        "    print(variable_parameters)\n",
        "    total_parameters += variable_parameters\n",
        "print(total_parameters)"
      ],
      "execution_count": 0,
      "outputs": []
    }
  ]
}
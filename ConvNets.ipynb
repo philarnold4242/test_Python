{
  "nbformat": 4,
  "nbformat_minor": 0,
  "metadata": {
    "colab": {
      "name": "Chapter4_ConvNets.ipynb",
      "version": "0.3.2",
      "provenance": [],
      "collapsed_sections": [
        "MErm2s1olv1Y",
        "Eofs89Id1cty",
        "ZAPEMIOayy-s",
        "0622WVTi0x8P",
        "YhH96ZrWoZAu"
      ],
      "include_colab_link": true
    },
    "kernelspec": {
      "name": "python3",
      "display_name": "Python 3"
    },
    "accelerator": "GPU"
  },
  "cells": [
    {
      "cell_type": "markdown",
      "metadata": {
        "id": "view-in-github",
        "colab_type": "text"
      },
      "source": [
        "<a href=\"https://colab.research.google.com/github/philarnold4242/test_Python/blob/master/ConvNets.ipynb\" target=\"_parent\"><img src=\"https://colab.research.google.com/assets/colab-badge.svg\" alt=\"Open In Colab\"/></a>"
      ]
    },
    {
      "metadata": {
        "id": "RBWclJu3nJm1",
        "colab_type": "text"
      },
      "cell_type": "markdown",
      "source": [
        "# Chapter 4 - Convolutional Neural Nets<br>\n",
        "https://www.tensorflow.org/tutorials/deep_cnn"
      ]
    },
    {
      "metadata": {
        "id": "MErm2s1olv1Y",
        "colab_type": "text"
      },
      "cell_type": "markdown",
      "source": [
        "## **Connect to Google Drive**<br>\n",
        "More infors can be found here:<br>\n",
        "https://medium.com/deep-learning-turkey/google-colab-free-gpu-tutorial-e113627b9f5d"
      ]
    },
    {
      "metadata": {
        "id": "I09D_wREl0w5",
        "colab_type": "code",
        "colab": {}
      },
      "cell_type": "code",
      "source": [
        "!apt-get install -y -qq software-properties-common python-software-properties module-init-tools\n",
        "!add-apt-repository -y ppa:alessandro-strada/ppa 2>&1 > /dev/null\n",
        "!apt-get update -qq 2>&1 > /dev/null\n",
        "!apt-get -y install -qq google-drive-ocamlfuse fuse\n",
        "from google.colab import auth\n",
        "auth.authenticate_user()\n",
        "from oauth2client.client import GoogleCredentials\n",
        "creds = GoogleCredentials.get_application_default()\n",
        "import getpass\n",
        "!google-drive-ocamlfuse -headless -id={creds.client_id} -secret={creds.client_secret} < /dev/null 2>&1 | grep URL\n",
        "vcode = getpass.getpass()\n",
        "!echo {vcode} | google-drive-ocamlfuse -headless -id={creds.client_id} -secret={creds.client_secret}"
      ],
      "execution_count": 0,
      "outputs": []
    },
    {
      "metadata": {
        "id": "2JAnKKWdmXvr",
        "colab_type": "code",
        "colab": {}
      },
      "cell_type": "code",
      "source": [
        "## Mount Google Drive\n",
        "!mkdir -p drive\n",
        "!google-drive-ocamlfuse drive"
      ],
      "execution_count": 0,
      "outputs": []
    },
    {
      "metadata": {
        "id": "EZ_OHqjVn5CS",
        "colab_type": "code",
        "colab": {}
      },
      "cell_type": "code",
      "source": [
        "!ls drive"
      ],
      "execution_count": 0,
      "outputs": []
    },
    {
      "metadata": {
        "id": "Eofs89Id1cty",
        "colab_type": "text"
      },
      "cell_type": "markdown",
      "source": [
        "## **Install modules**"
      ]
    },
    {
      "metadata": {
        "id": "lcmbJUQKuSZx",
        "colab_type": "code",
        "outputId": "1bfac513-4ceb-4cec-9a88-547f939f5104",
        "colab": {
          "base_uri": "https://localhost:8080/",
          "height": 398
        }
      },
      "cell_type": "code",
      "source": [
        "# Pytorch: https://jovianlin.io/pytorch-with-gpu-in-google-colab/\n",
        "!pip3 install http://download.pytorch.org/whl/cu80/torch-0.3.0.post4-cp36-cp36m-linux_x86_64.whl \n",
        "!pip3 install torchvision"
      ],
      "execution_count": 0,
      "outputs": [
        {
          "output_type": "stream",
          "text": [
            "Collecting torch==0.3.0.post4 from http://download.pytorch.org/whl/cu80/torch-0.3.0.post4-cp36-cp36m-linux_x86_64.whl\n",
            "  Downloading http://download.pytorch.org/whl/cu80/torch-0.3.0.post4-cp36-cp36m-linux_x86_64.whl (592.3MB)\n",
            "\u001b[K    93% |█████████████████████████████▉  | 552.4MB 25.4MB/s eta 0:00:02"
          ],
          "name": "stdout"
        },
        {
          "output_type": "stream",
          "text": [
            "\u001b[K    100% |████████████████████████████████| 592.3MB 66.4MB/s \n",
            "\u001b[?25hRequirement already satisfied: pyyaml in /usr/local/lib/python3.6/dist-packages (from torch==0.3.0.post4)\n",
            "Requirement already satisfied: numpy in /usr/local/lib/python3.6/dist-packages (from torch==0.3.0.post4)\n",
            "Installing collected packages: torch\n",
            "Successfully installed torch-0.3.0.post4\n",
            "Collecting torchvision\n",
            "  Downloading torchvision-0.2.0-py2.py3-none-any.whl (48kB)\n",
            "\u001b[K    100% |████████████████████████████████| 51kB 1.8MB/s \n",
            "\u001b[?25hRequirement already satisfied: torch in /usr/local/lib/python3.6/dist-packages (from torchvision)\n",
            "Requirement already satisfied: six in /usr/local/lib/python3.6/dist-packages (from torchvision)\n",
            "Collecting pillow>=4.1.1 (from torchvision)\n",
            "  Downloading Pillow-5.0.0-cp36-cp36m-manylinux1_x86_64.whl (5.9MB)\n",
            "\u001b[K    100% |████████████████████████████████| 5.9MB 238kB/s \n",
            "\u001b[?25hRequirement already satisfied: numpy in /usr/local/lib/python3.6/dist-packages (from torchvision)\n",
            "Requirement already satisfied: pyyaml in /usr/local/lib/python3.6/dist-packages (from torch->torchvision)\n",
            "Installing collected packages: pillow, torchvision\n",
            "  Found existing installation: Pillow 4.0.0\n",
            "    Uninstalling Pillow-4.0.0:\n",
            "      Successfully uninstalled Pillow-4.0.0\n",
            "Successfully installed pillow-5.0.0 torchvision-0.2.0\n"
          ],
          "name": "stdout"
        }
      ]
    },
    {
      "metadata": {
        "id": "j6t3wS2a0wAC",
        "colab_type": "code",
        "outputId": "1192460b-6802-451b-c914-a14f82f33110",
        "colab": {
          "base_uri": "https://localhost:8080/",
          "height": 86
        }
      },
      "cell_type": "code",
      "source": [
        "# Sanity check\n",
        "import torch\n",
        "\n",
        "print(torch.cuda.current_device())\n",
        "print(torch.cuda.device(0))\n",
        "print(torch.cuda.device_count())\n",
        "print(torch.cuda.get_device_name(0))"
      ],
      "execution_count": 0,
      "outputs": [
        {
          "output_type": "stream",
          "text": [
            "0\n",
            "<torch.cuda.device object at 0x7f7c420fa780>\n",
            "1\n",
            "Tesla K80\n"
          ],
          "name": "stdout"
        }
      ]
    },
    {
      "metadata": {
        "id": "ZAPEMIOayy-s",
        "colab_type": "text"
      },
      "cell_type": "markdown",
      "source": [
        "## Uncertainties<br>\n",
        "Helper functions"
      ]
    },
    {
      "metadata": {
        "id": "K8i4CAtpy9dj",
        "colab_type": "code",
        "colab": {}
      },
      "cell_type": "code",
      "source": [
        "# Pseudocount - needs thinking.\n",
        "pc = 1e-10\n",
        "\n",
        "def softmax(x):\n",
        "    \"\"\" Multinomial logisitc fuction. \"\"\"\n",
        "    mmax = np.amax(x, axis=1).reshape(x.shape[0], 1)\n",
        "    ex = np.exp(x - mmax)\n",
        "    ex_sum = ex.sum(axis=1).reshape(ex.shape[0],1)\n",
        "    return ex / ex_sum\n",
        "    \n",
        "\n",
        "def var_ratio(x):\n",
        "    \"\"\" How spread is the distribution around the mode?\"\"\" \n",
        "    ratios = np.zeros(shape=(x.shape[1]))\n",
        "    \n",
        "    # Loop over test examples\n",
        "    for n in range(x.shape[1]):\n",
        "        \n",
        "        # Get predicted class\n",
        "        samples_n = np.argmax(x[:, n], axis=1)\n",
        "        \n",
        "        # Get most abundant class\n",
        "        count = np.argmax(np.bincount(samples_n))\n",
        "        \n",
        "        # Return frequency of class\n",
        "        ratios[n] = np.sum(samples_n==count) / x.shape[0]\n",
        "\n",
        "    return ratios\n",
        "\n",
        "\n",
        "def pred_ent(x):\n",
        "    \"\"\" Average amount of information contained in posterior predictive distribution. \"\"\"\n",
        "    \n",
        "    N = x.shape[1] # Number of test cases\n",
        "    T = x.shape[0] # Number of samples per test case\n",
        "    C = 10 # number of classes\n",
        "    \n",
        "    entropies = np.zeros(shape=(x.shape[1]))\n",
        "    \n",
        "    # Loop over test examples\n",
        "    for n in range(N):\n",
        "        \n",
        "        # Approx posterior predictive distribution\n",
        "        ppd = np.mean(x[:,n,:] + pc, axis=0)\n",
        "        \n",
        "        # Calculate predictive entropy\n",
        "        entropies[n] = - np.sum(np.multiply(ppd, np.log(ppd)))\n",
        "    \n",
        "    return entropies\n",
        "\n",
        "\n",
        "def mut_inf(x):\n",
        "    \"\"\" MI between prediction y_pred and posterior distribution for the model parameters. \"\"\"\n",
        "    \n",
        "    N = x.shape[1] # Number of test cases\n",
        "    T = x.shape[0] # Number of samples per test case\n",
        "    C = 10 # number of classes\n",
        "        \n",
        "    mis = np.zeros(shape=(x.shape[1]))\n",
        "    \n",
        "    # Loop over test examples\n",
        "    for n in range(N):\n",
        "        \n",
        "        # Approx posterior predictive distribution\n",
        "        ppd = np.mean(x[:,n,:] + pc, axis=0)\n",
        "        \n",
        "        # Calculate predictive entropy\n",
        "        pe = - np.sum(np.multiply(ppd, np.log(ppd)))\n",
        "        \n",
        "        # Calculate conditional entropy        \n",
        "        p = x[:,n,:] + pc\n",
        "        logp = np.log(p)\n",
        "        ce = np.sum(np.multiply(p,logp))\n",
        "        \n",
        "        mis[n] = 1/T * pe + ce\n",
        "    \n",
        "    return mis"
      ],
      "execution_count": 0,
      "outputs": []
    },
    {
      "metadata": {
        "id": "14cQDiYv1SpU",
        "colab_type": "text"
      },
      "cell_type": "markdown",
      "source": [
        "## **Let's get started**"
      ]
    },
    {
      "metadata": {
        "id": "VO9aw8uUokBW",
        "colab_type": "text"
      },
      "cell_type": "markdown",
      "source": [
        "### Set up modules"
      ]
    },
    {
      "metadata": {
        "id": "jkgZW6xuuTuo",
        "colab_type": "code",
        "outputId": "6cd87e57-12c3-4bd5-952a-26ed9c8f757a",
        "colab": {
          "base_uri": "https://localhost:8080/",
          "height": 34
        }
      },
      "cell_type": "code",
      "source": [
        "import os\n",
        "import sys\n",
        "\n",
        "import numpy as np\n",
        "np.set_printoptions(precision=5)\n",
        "\n",
        "import pandas as pd\n",
        "\n",
        "%matplotlib notebook\n",
        "import matplotlib.pyplot as plt\n",
        "\n",
        "import pickle\n",
        "import urllib\n",
        "import tarfile\n",
        "\n",
        "import tensorflow as tf\n",
        "print(tf.__version__)"
      ],
      "execution_count": 0,
      "outputs": [
        {
          "output_type": "stream",
          "text": [
            "1.6.0\n"
          ],
          "name": "stdout"
        }
      ]
    },
    {
      "metadata": {
        "id": "3ZWo6tDooLq5",
        "colab_type": "code",
        "outputId": "c53c158b-ec45-4808-c647-240f2ce45523",
        "colab": {
          "base_uri": "https://localhost:8080/",
          "height": 52
        }
      },
      "cell_type": "code",
      "source": [
        "## Check GPU\n",
        "with tf.device('/gpu:0'):\n",
        "    a = tf.constant([1.0, 2.0, 3.0, 4.0, 5.0, 6.0], shape=[2, 3], name='a')\n",
        "    b = tf.constant([1.0, 2.0, 3.0, 4.0, 5.0, 6.0], shape=[3, 2], name='b')\n",
        "    c = tf.matmul(a, b)\n",
        "\n",
        "with tf.Session() as sess:\n",
        "    print (sess.run(c))"
      ],
      "execution_count": 0,
      "outputs": [
        {
          "output_type": "stream",
          "text": [
            "[[22. 28.]\n",
            " [49. 64.]]\n"
          ],
          "name": "stdout"
        }
      ]
    },
    {
      "metadata": {
        "id": "0622WVTi0x8P",
        "colab_type": "text"
      },
      "cell_type": "markdown",
      "source": [
        "### Random Forest Baseline\n",
        "Details can be found here:<br>\n",
        "https://www.kaggle.com/atorin/mnist-digit-recognition-with-random-forests"
      ]
    },
    {
      "metadata": {
        "id": "UIuxFY1s1Btt",
        "colab_type": "code",
        "colab": {}
      },
      "cell_type": "code",
      "source": [
        ""
      ],
      "execution_count": 0,
      "outputs": []
    },
    {
      "metadata": {
        "id": "YhH96ZrWoZAu",
        "colab_type": "text"
      },
      "cell_type": "markdown",
      "source": [
        "### ConvNet - The hard way"
      ]
    },
    {
      "metadata": {
        "id": "GDzeh2PXykbP",
        "colab_type": "code",
        "colab": {}
      },
      "cell_type": "code",
      "source": [
        "## Load MNIST\n",
        "from tensorflow.examples.tutorials.mnist import input_data\n",
        "mnist = input_data.read_data_sets('MNIST_data', one_hot=True)"
      ],
      "execution_count": 0,
      "outputs": []
    },
    {
      "metadata": {
        "id": "3kNaG8xHt78M",
        "colab_type": "code",
        "colab": {}
      },
      "cell_type": "code",
      "source": [
        "## Helper functions\n",
        "def weight_variable(shape):\n",
        "    \"\"\" Specifies the weight for either fully-connected or conv layers.\"\"\"\n",
        "    initial = tf.truncated_normal(shape, stddev=0.1)\n",
        "    return tf.Variable(initial)\n",
        "\n",
        "\n",
        "def bias_variable(shape):\n",
        "    \"\"\" Bias elements. \"\"\"\n",
        "    initial = tf.constant(0.1, shape=shape)\n",
        "    return tf.Variable(initial)\n",
        "\n",
        "\n",
        "def conv2d(x, W):\n",
        "    \"\"\" This specifies a full convolution with an output the same size\n",
        "        as the input x. \n",
        "        [batch, height, width, channels] \"\"\"\n",
        "    return tf.nn.conv2d(x, W, strides=[1, 1, 1, 1], padding='SAME')\n",
        "\n",
        "\n",
        "def max_pool_2x2(x):\n",
        "    \"\"\" ksize: A 1-D int Tensor of 4 elements. The size of the window for each \n",
        "               dimension of the input tensor.\n",
        "        strides: A 1-D int Tensor of 4 elements. The stride of the sliding window for \n",
        "                 each dimension of the input tensor. \"\"\"\n",
        "    return tf.nn.max_pool(x, ksize=[1, 2, 2, 1], strides=[1, 2, 2, 1], padding='SAME')"
      ],
      "execution_count": 0,
      "outputs": []
    },
    {
      "metadata": {
        "id": "i5smh_tbuKh_",
        "colab_type": "code",
        "colab": {}
      },
      "cell_type": "code",
      "source": [
        "## Architecture parameters\n",
        "pic_res = 28\n",
        "n_channel = 1\n",
        "\n",
        "# Placeholders to feed stuff to network\n",
        "x = tf.placeholder(tf.float32, shape=[None, pic_res*pic_res])\n",
        "y_true = tf.placeholder(tf.float32, shape=[None, 10])\n",
        "keep_prob = tf.placeholder(tf.float32)\n",
        "\n",
        "# Uncertainties\n",
        "bayesian_keep_prob = 0.9"
      ],
      "execution_count": 0,
      "outputs": []
    },
    {
      "metadata": {
        "id": "fO5bdhz9uQsq",
        "colab_type": "code",
        "colab": {}
      },
      "cell_type": "code",
      "source": [
        "## The net\n",
        "# Remember, the input image is a 1D tensor of length 784.\n",
        "mnist.train.images[1].shape\n",
        "\n",
        "# To apply the layer, we first reshape x to a 4d tensor, with the second and \n",
        "# third dimensions corresponding to image width and height, and the final dimension \n",
        "# corresponding to the number of color channels.\n",
        "x_image = tf.reshape(x, [-1, pic_res, pic_res, n_channel])\n",
        "\n",
        "# First conv layer\n",
        "# The convolution will compute 32 features for each 3x3 patch. Its weight tensor will have a \n",
        "# shape of [3, 3, 1, 32]. The first two dimensions are the patch size, the next is the number \n",
        "# of input channels, and the last is the number of output channels. \n",
        "W_conv1 = weight_variable([3, 3, n_channel, 32])\n",
        "b_conv1 = bias_variable([32])\n",
        "h_conv1 = tf.nn.relu(conv2d(x_image, W_conv1) + b_conv1)\n",
        "d_conv1 = tf.nn.dropout(h_conv1, keep_prob=keep_prob)\n",
        "h_pool1 = max_pool_2x2(d_conv1)\n",
        "\n",
        "# Second conv layer\n",
        "W_conv2 = weight_variable([3, 3, 32, 64])\n",
        "b_conv2 = bias_variable([64])\n",
        "h_conv2 = tf.nn.relu(conv2d(h_pool1, W_conv2) + b_conv2)\n",
        "d_conv2 = tf.nn.dropout(h_conv2, keep_prob=keep_prob)\n",
        "h_pool2 = max_pool_2x2(d_conv2)\n",
        "\n",
        "# Dense layer \n",
        "pic_res4_sq = int(pic_res/4)*int(pic_res/4)\n",
        "W_fc1 = weight_variable([pic_res4_sq * 64, 1024])\n",
        "b_fc1 = bias_variable([1024])\n",
        "\n",
        "h_pool2_flat = tf.reshape(h_pool2, [-1, pic_res4_sq*64])\n",
        "h_fc1 = tf.nn.relu(tf.matmul(h_pool2_flat, W_fc1) + b_fc1)\n",
        "# Dropout\n",
        "h_fc1_drop = tf.nn.dropout(h_fc1, keep_prob=keep_prob)\n",
        "\n",
        "# Output\n",
        "W_fc2 = weight_variable([1024, 10])\n",
        "b_fc2 = bias_variable([10])\n",
        "\n",
        "h_fc2 = tf.matmul(h_fc1_drop, W_fc2) + b_fc2\n",
        "h_fc2_drop = tf.nn.dropout(h_fc2, keep_prob=keep_prob)\n",
        "y_conv = h_fc2_drop"
      ],
      "execution_count": 0,
      "outputs": []
    },
    {
      "metadata": {
        "id": "vOnCcPGfuWIo",
        "colab_type": "code",
        "colab": {}
      },
      "cell_type": "code",
      "source": [
        "# Objective function\n",
        "y_pred = tf.nn.softmax_cross_entropy_with_logits(labels=y_true, logits=y_conv)\n",
        "cross_entropy = tf.reduce_mean(y_pred)\n",
        "\n",
        "# Optimizer\n",
        "train_step = tf.train.AdamOptimizer(1e-4).minimize(cross_entropy)\n",
        "\n",
        "# Evaluation\n",
        "correct_prediction = tf.equal(tf.argmax(y_conv, 1), tf.argmax(y_true, 1))\n",
        "accuracy = tf.reduce_mean(tf.cast(correct_prediction, tf.float32))"
      ],
      "execution_count": 0,
      "outputs": []
    },
    {
      "metadata": {
        "id": "YxYiTuaruedH",
        "colab_type": "code",
        "outputId": "895373ca-55ef-4226-c359-e09b1aeb20f9",
        "colab": {
          "base_uri": "https://localhost:8080/",
          "height": 210
        }
      },
      "cell_type": "code",
      "source": [
        "## Train - MNIST\n",
        "sess = tf.Session()\n",
        "sess.run(tf.global_variables_initializer())\n",
        "\n",
        "for i in range(int(1e4)+1):\n",
        "    batch = mnist.train.next_batch(64)\n",
        "\n",
        "    # Training\n",
        "    _, loss = sess.run([train_step, cross_entropy], \n",
        "                       feed_dict={x: batch[0], y_true: batch[1], \n",
        "                                  keep_prob: float(bayesian_keep_prob)})\n",
        "    \n",
        "    # Status report\n",
        "    if i % 1000 == 0:\n",
        "        train_acc = sess.run(accuracy, feed_dict={x: batch[0], \n",
        "                                                  y_true: batch[1], \n",
        "                                                  keep_prob: float(1.0)})\n",
        "        \n",
        "        test_acc = sess.run(accuracy, feed_dict={x: mnist.test.images,\n",
        "                                                  y_true: mnist.test.labels, \n",
        "                                                  keep_prob: 1.0})\n",
        "        info = [str(tx) for tx in [i, loss, train_acc, test_acc] ]\n",
        "        print('\\t'.join(info))"
      ],
      "execution_count": 0,
      "outputs": [
        {
          "output_type": "stream",
          "text": [
            "0\t4.5360656\t0.078125\t0.0633\n",
            "1000\t0.30717698\t0.984375\t0.9688\n",
            "2000\t0.23724404\t0.96875\t0.9768\n",
            "3000\t0.15531254\t0.96875\t0.9846\n",
            "4000\t0.10624134\t1.0\t0.9861\n",
            "5000\t0.08902804\t1.0\t0.988\n",
            "6000\t0.15384579\t0.984375\t0.9883\n",
            "7000\t0.07657587\t1.0\t0.9907\n",
            "8000\t0.029367274\t1.0\t0.9908\n",
            "9000\t0.046900593\t1.0\t0.9909\n",
            "10000\t0.07492903\t1.0\t0.991\n"
          ],
          "name": "stdout"
        }
      ]
    },
    {
      "metadata": {
        "id": "OCb8xs3ou_nV",
        "colab_type": "text"
      },
      "cell_type": "markdown",
      "source": [
        "**Uncertainties from stochastic forward passes**"
      ]
    },
    {
      "metadata": {
        "id": "4InJYDy_u6ao",
        "colab_type": "code",
        "colab": {}
      },
      "cell_type": "code",
      "source": [
        "## Stochastic forward passes\n",
        "N = 100\n",
        "samples = np.zeros( shape=(N, mnist.test.images.shape[0], 10))\n",
        "\n",
        "for n in range(N):\n",
        "    logits = sess.run(y_conv, feed_dict={x: mnist.test.images, \n",
        "                                         y_true: mnist.test.labels,\n",
        "                                         keep_prob: bayesian_keep_prob})\n",
        "    samples[n] = softmax(logits)"
      ],
      "execution_count": 0,
      "outputs": []
    },
    {
      "metadata": {
        "id": "o7MRUgoX0dBH",
        "colab_type": "code",
        "colab": {}
      },
      "cell_type": "code",
      "source": [
        "# Variation ratio\n",
        "vr = var_ratio(samples)\n",
        "\n",
        "# Predictive entropy\n",
        "pe = pred_ent(samples)\n",
        "\n",
        "# Mutual information\n",
        "mi = mut_inf(samples)"
      ],
      "execution_count": 0,
      "outputs": []
    },
    {
      "metadata": {
        "id": "FHEaXPRD0ebq",
        "colab_type": "code",
        "colab": {}
      },
      "cell_type": "code",
      "source": [
        "with open('cnn.res', 'w') as myf:\n",
        "    \n",
        "    # Loop over test examples\n",
        "    for n in range(mnist.test.labels.shape[0]):\n",
        "\n",
        "        ypred = np.argmax(np.mean(samples[:,n,:], axis=0))\n",
        "        ytrue = np.argmax(mnist.test.labels[n])\n",
        "\n",
        "        res = [str(tx) for tx in [n, ytrue, ypred, vr[n], pe[n], mi[n], int(ypred==ytrue)]]\n",
        "        print(\"\\t\".join(res), file=myf)"
      ],
      "execution_count": 0,
      "outputs": []
    },
    {
      "metadata": {
        "id": "5rVZVFQFyQKy",
        "colab_type": "text"
      },
      "cell_type": "markdown",
      "source": [
        "### ConvNet - with Keras<br>\n",
        "You can find lots of Keras examples here:<br>\n",
        "https://github.com/keras-team/keras/tree/master/examples"
      ]
    },
    {
      "metadata": {
        "id": "NXcGrgiy1TVb",
        "colab_type": "code",
        "outputId": "5d6f1b84-ebd0-461d-9dbd-36436d753d88",
        "colab": {
          "base_uri": "https://localhost:8080/",
          "height": 34
        }
      },
      "cell_type": "code",
      "source": [
        "from keras import layers\n",
        "from keras import models\n",
        "from keras.utils import to_categorical\n",
        "\n",
        "from keras.datasets import mnist"
      ],
      "execution_count": 0,
      "outputs": [
        {
          "output_type": "stream",
          "text": [
            "Using TensorFlow backend.\n"
          ],
          "name": "stderr"
        }
      ]
    },
    {
      "metadata": {
        "id": "Plg8IV4JyR9t",
        "colab_type": "code",
        "outputId": "13d260bc-d541-4604-a6a2-36b613ea0e74",
        "colab": {
          "base_uri": "https://localhost:8080/",
          "height": 52
        }
      },
      "cell_type": "code",
      "source": [
        "## Load MNIST\n",
        "(train_images, train_labels), (test_images, test_labels) = mnist.load_data()"
      ],
      "execution_count": 0,
      "outputs": [
        {
          "output_type": "stream",
          "text": [
            "Downloading data from https://s3.amazonaws.com/img-datasets/mnist.npz\n",
            "11493376/11490434 [==============================] - 3s 0us/step\n"
          ],
          "name": "stdout"
        }
      ]
    },
    {
      "metadata": {
        "id": "Ctlput7N1Fsl",
        "colab_type": "code",
        "colab": {}
      },
      "cell_type": "code",
      "source": [
        "## Set up ConvNet\n",
        "model = models.Sequential()\n",
        "\n",
        "model.add(layers.Conv2D(32, (3, 3), activation='relu', input_shape=(28, 28, 1)))\n",
        "model.add(layers.MaxPooling2D((2, 2)))\n",
        "\n",
        "model.add(layers.Conv2D(64, (3, 3), activation='relu'))\n",
        "model.add(layers.MaxPooling2D((2, 2)))\n",
        "\n",
        "model.add(layers.Conv2D(64, (3, 3), activation='relu'))\n",
        "\n",
        "# now: model.output_shape == (None, 64, 7, 7)\n",
        "model.add(layers.Flatten())\n",
        "# now: model.output_shape == (None, 64*7*7)\n",
        "\n",
        "model.add(layers.Dense(units=64, activation='relu'))\n",
        "model.add(layers.Dense(units=10, activation='softmax'))"
      ],
      "execution_count": 0,
      "outputs": []
    },
    {
      "metadata": {
        "id": "m4qbgDrN1Xv6",
        "colab_type": "code",
        "outputId": "cbfb5dac-4ba1-4de8-f65f-6df403f3d55b",
        "colab": {
          "base_uri": "https://localhost:8080/",
          "height": 228
        }
      },
      "cell_type": "code",
      "source": [
        "## Train\n",
        "(train_images, train_labels), (test_images, test_labels) = mnist.load_data()\n",
        "\n",
        "train_images = train_images.reshape((60000, 28, 28, 1))\n",
        "train_images = train_images.astype('float32') / 255\n",
        "\n",
        "test_images = test_images.reshape((10000, 28, 28, 1))\n",
        "test_images = test_images.astype('float32') / 255\n",
        "\n",
        "train_labels = to_categorical(train_labels)\n",
        "test_labels = to_categorical(test_labels)\n",
        "\n",
        "model.compile(optimizer='rmsprop', loss='categorical_crossentropy', \n",
        "              metrics=['accuracy'])\n",
        "\n",
        "model.fit(train_images, train_labels, epochs=5, batch_size=64)"
      ],
      "execution_count": 0,
      "outputs": [
        {
          "output_type": "stream",
          "text": [
            "Epoch 1/5\n",
            "60000/60000 [==============================] - 12s 202us/step - loss: 0.1728 - acc: 0.9461\n",
            "Epoch 2/5\n",
            "60000/60000 [==============================] - 10s 173us/step - loss: 0.0469 - acc: 0.9850\n",
            "Epoch 3/5\n",
            "48704/60000 [=======================>......] - ETA: 1s - loss: 0.0331 - acc: 0.9898"
          ],
          "name": "stdout"
        },
        {
          "output_type": "stream",
          "text": [
            "60000/60000 [==============================] - 10s 168us/step - loss: 0.0324 - acc: 0.9901\n",
            "Epoch 4/5\n",
            "60000/60000 [==============================] - 10s 165us/step - loss: 0.0244 - acc: 0.9925\n",
            "Epoch 5/5\n",
            "60000/60000 [==============================] - 10s 161us/step - loss: 0.0191 - acc: 0.9939\n"
          ],
          "name": "stdout"
        },
        {
          "output_type": "execute_result",
          "data": {
            "text/plain": [
              "<keras.callbacks.History at 0x7fa0c7ea35c0>"
            ]
          },
          "metadata": {
            "tags": []
          },
          "execution_count": 7
        }
      ]
    },
    {
      "metadata": {
        "id": "Z6P0jOKT1yHQ",
        "colab_type": "code",
        "outputId": "bd68a37c-3af2-428d-88fe-e13531da7784",
        "colab": {
          "base_uri": "https://localhost:8080/",
          "height": 52
        }
      },
      "cell_type": "code",
      "source": [
        "## Evaluation\n",
        "test_loss, test_acc = model.evaluate(test_images, test_labels)\n",
        "test_acc"
      ],
      "execution_count": 0,
      "outputs": [
        {
          "output_type": "stream",
          "text": [
            "10000/10000 [==============================] - 1s 85us/step\n"
          ],
          "name": "stdout"
        },
        {
          "output_type": "execute_result",
          "data": {
            "text/plain": [
              "0.9899"
            ]
          },
          "metadata": {
            "tags": []
          },
          "execution_count": 8
        }
      ]
    },
    {
      "metadata": {
        "id": "0XmHPzoqDw8d",
        "colab_type": "code",
        "colab": {}
      },
      "cell_type": "code",
      "source": [
        ""
      ],
      "execution_count": 0,
      "outputs": []
    }
  ]
}